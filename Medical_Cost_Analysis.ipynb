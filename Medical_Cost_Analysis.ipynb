{
  "cells": [
    {
      "cell_type": "markdown",
      "metadata": {
        "id": "view-in-github",
        "colab_type": "text"
      },
      "source": [
        "<a href=\"https://colab.research.google.com/github/oscargallardo1/Data-Analysis-Projects/blob/main/Medical_Cost_Analysis.ipynb\" target=\"_parent\"><img src=\"https://colab.research.google.com/assets/colab-badge.svg\" alt=\"Open In Colab\"/></a>"
      ]
    },
    {
      "cell_type": "code",
      "execution_count": 1,
      "metadata": {
        "execution": {
          "iopub.execute_input": "2022-01-04T09:59:58.659940Z",
          "iopub.status.busy": "2022-01-04T09:59:58.659161Z",
          "iopub.status.idle": "2022-01-04T10:00:01.865821Z",
          "shell.execute_reply": "2022-01-04T10:00:01.864991Z",
          "shell.execute_reply.started": "2022-01-04T09:57:46.833341Z"
        },
        "papermill": {
          "duration": 3.248604,
          "end_time": "2022-01-04T10:00:01.865996",
          "exception": false,
          "start_time": "2022-01-04T09:59:58.617392",
          "status": "completed"
        },
        "tags": [],
        "id": "nJCx5onkpMXw"
      },
      "outputs": [],
      "source": [
        "import pandas as pd\n",
        "import numpy as np\n",
        "import matplotlib.pyplot as plt\n",
        "import seaborn as sns\n",
        "import plotly.express as px\n",
        "from collections import Counter"
      ],
      "id": "nJCx5onkpMXw"
    },
    {
      "cell_type": "code",
      "execution_count": 2,
      "metadata": {
        "id": "GMFgtrTJpMX1"
      },
      "outputs": [],
      "source": [
        "#pip install xgboost"
      ],
      "id": "GMFgtrTJpMX1"
    },
    {
      "cell_type": "code",
      "source": [
        "#!pip install gitly==1.0.1"
      ],
      "metadata": {
        "id": "Mt7EQmHTpv2w"
      },
      "id": "Mt7EQmHTpv2w",
      "execution_count": 3,
      "outputs": []
    },
    {
      "cell_type": "code",
      "execution_count": 4,
      "metadata": {
        "id": "7fBQGbgKpMX1"
      },
      "outputs": [],
      "source": [
        "from sklearn.ensemble import RandomForestRegressor\n",
        "from sklearn.model_selection import train_test_split\n",
        "from sklearn.metrics import r2_score\n",
        "from sklearn.svm import SVR\n",
        "from sklearn.tree import DecisionTreeRegressor\n",
        "from sklearn.model_selection import GridSearchCV\n",
        "from xgboost import XGBRegressor\n",
        "#import warnings\n",
        "#warnings.filterwarnings('ignore')"
      ],
      "id": "7fBQGbgKpMX1"
    },
    {
      "cell_type": "code",
      "source": [
        "from gitly.colab.plot import GitlyPlotter\n",
        "\n",
        "# Instantiate the object using 'github' or 'git' for static plots\n",
        "# or 'colab' for default dinamic Plotly plots\n",
        "gitly = GitlyPlotter('github')"
      ],
      "metadata": {
        "colab": {
          "base_uri": "https://localhost:8080/"
        },
        "id": "_qW6NT6DpOtQ",
        "outputId": "fb81abc5-1baa-4d6f-8532-1d7cbabfcbf2"
      },
      "id": "_qW6NT6DpOtQ",
      "execution_count": 5,
      "outputs": [
        {
          "output_type": "stream",
          "name": "stdout",
          "text": [
            "There are few libs and modules that should be installed in Colab in order to generate static plots from Plotly.\n",
            "Summary: Install Orca, update plotly and update apt-get\n",
            "\n",
            "apt-get update\n",
            "pip install plotly>=4.0.0\n",
            "wget https://github.com/plotly/orca/releases/download/v1.2.1/orca-1.2.1-x86_64.AppImage -O /usr/local/bin/orca\n",
            "chmod +x /usr/local/bin/orca\n",
            "apt-get install xvfb libgtk2.0-0 libgconf-2-4\n",
            "Done. Have fun! :)\n"
          ]
        }
      ]
    },
    {
      "cell_type": "markdown",
      "metadata": {
        "id": "WeVPFD2cpMX2"
      },
      "source": [
        "## Medical Cost Analysis"
      ],
      "id": "WeVPFD2cpMX2"
    },
    {
      "cell_type": "markdown",
      "metadata": {
        "id": "8BHRK-grpMX3"
      },
      "source": [
        "In this Project analysis, I analyze this dataset to determine what attributes factor more on the medical cost of patients. This dataset consists of several patient attributes such as age, BMI, their region, whether they are a smoker, and their total charges."
      ],
      "id": "8BHRK-grpMX3"
    },
    {
      "cell_type": "code",
      "execution_count": 6,
      "metadata": {
        "execution": {
          "iopub.execute_input": "2022-01-04T10:00:01.928708Z",
          "iopub.status.busy": "2022-01-04T10:00:01.928210Z",
          "iopub.status.idle": "2022-01-04T10:00:01.954004Z",
          "shell.execute_reply": "2022-01-04T10:00:01.953572Z",
          "shell.execute_reply.started": "2022-01-04T09:57:46.841830Z"
        },
        "papermill": {
          "duration": 0.058499,
          "end_time": "2022-01-04T10:00:01.954146",
          "exception": false,
          "start_time": "2022-01-04T10:00:01.895647",
          "status": "completed"
        },
        "tags": [],
        "id": "_H3Pna2xpMX3"
      },
      "outputs": [],
      "source": [
        "df = pd.read_csv('insurance.csv')"
      ],
      "id": "_H3Pna2xpMX3"
    },
    {
      "cell_type": "code",
      "execution_count": 7,
      "metadata": {
        "execution": {
          "iopub.execute_input": "2022-01-04T10:00:02.019120Z",
          "iopub.status.busy": "2022-01-04T10:00:02.018433Z",
          "iopub.status.idle": "2022-01-04T10:00:02.021600Z",
          "shell.execute_reply": "2022-01-04T10:00:02.022000Z",
          "shell.execute_reply.started": "2022-01-04T09:57:46.946827Z"
        },
        "papermill": {
          "duration": 0.038782,
          "end_time": "2022-01-04T10:00:02.022150",
          "exception": false,
          "start_time": "2022-01-04T10:00:01.983368",
          "status": "completed"
        },
        "tags": [],
        "colab": {
          "base_uri": "https://localhost:8080/"
        },
        "id": "mqvlD2K0pMX3",
        "outputId": "a85f6306-3d50-40dd-c210-88480cfa847e"
      },
      "outputs": [
        {
          "output_type": "execute_result",
          "data": {
            "text/plain": [
              "(1338, 7)"
            ]
          },
          "metadata": {},
          "execution_count": 7
        }
      ],
      "source": [
        "df.shape"
      ],
      "id": "mqvlD2K0pMX3"
    },
    {
      "cell_type": "code",
      "execution_count": 8,
      "metadata": {
        "execution": {
          "iopub.execute_input": "2022-01-04T10:00:02.087845Z",
          "iopub.status.busy": "2022-01-04T10:00:02.087085Z",
          "iopub.status.idle": "2022-01-04T10:00:02.099187Z",
          "shell.execute_reply": "2022-01-04T10:00:02.098753Z",
          "shell.execute_reply.started": "2022-01-04T09:57:46.954059Z"
        },
        "papermill": {
          "duration": 0.046619,
          "end_time": "2022-01-04T10:00:02.099297",
          "exception": false,
          "start_time": "2022-01-04T10:00:02.052678",
          "status": "completed"
        },
        "tags": [],
        "colab": {
          "base_uri": "https://localhost:8080/",
          "height": 206
        },
        "id": "zL4T3uPapMX4",
        "outputId": "3d466632-03a5-4d19-89ea-281161cdda0e"
      },
      "outputs": [
        {
          "output_type": "execute_result",
          "data": {
            "text/html": [
              "\n",
              "  <div id=\"df-62da1368-7c5b-466c-a65e-3a55c6295b7f\">\n",
              "    <div class=\"colab-df-container\">\n",
              "      <div>\n",
              "<style scoped>\n",
              "    .dataframe tbody tr th:only-of-type {\n",
              "        vertical-align: middle;\n",
              "    }\n",
              "\n",
              "    .dataframe tbody tr th {\n",
              "        vertical-align: top;\n",
              "    }\n",
              "\n",
              "    .dataframe thead th {\n",
              "        text-align: right;\n",
              "    }\n",
              "</style>\n",
              "<table border=\"1\" class=\"dataframe\">\n",
              "  <thead>\n",
              "    <tr style=\"text-align: right;\">\n",
              "      <th></th>\n",
              "      <th>age</th>\n",
              "      <th>sex</th>\n",
              "      <th>bmi</th>\n",
              "      <th>children</th>\n",
              "      <th>smoker</th>\n",
              "      <th>region</th>\n",
              "      <th>charges</th>\n",
              "    </tr>\n",
              "  </thead>\n",
              "  <tbody>\n",
              "    <tr>\n",
              "      <th>0</th>\n",
              "      <td>19</td>\n",
              "      <td>female</td>\n",
              "      <td>27.900</td>\n",
              "      <td>0</td>\n",
              "      <td>yes</td>\n",
              "      <td>southwest</td>\n",
              "      <td>16884.92400</td>\n",
              "    </tr>\n",
              "    <tr>\n",
              "      <th>1</th>\n",
              "      <td>18</td>\n",
              "      <td>male</td>\n",
              "      <td>33.770</td>\n",
              "      <td>1</td>\n",
              "      <td>no</td>\n",
              "      <td>southeast</td>\n",
              "      <td>1725.55230</td>\n",
              "    </tr>\n",
              "    <tr>\n",
              "      <th>2</th>\n",
              "      <td>28</td>\n",
              "      <td>male</td>\n",
              "      <td>33.000</td>\n",
              "      <td>3</td>\n",
              "      <td>no</td>\n",
              "      <td>southeast</td>\n",
              "      <td>4449.46200</td>\n",
              "    </tr>\n",
              "    <tr>\n",
              "      <th>3</th>\n",
              "      <td>33</td>\n",
              "      <td>male</td>\n",
              "      <td>22.705</td>\n",
              "      <td>0</td>\n",
              "      <td>no</td>\n",
              "      <td>northwest</td>\n",
              "      <td>21984.47061</td>\n",
              "    </tr>\n",
              "    <tr>\n",
              "      <th>4</th>\n",
              "      <td>32</td>\n",
              "      <td>male</td>\n",
              "      <td>28.880</td>\n",
              "      <td>0</td>\n",
              "      <td>no</td>\n",
              "      <td>northwest</td>\n",
              "      <td>3866.85520</td>\n",
              "    </tr>\n",
              "  </tbody>\n",
              "</table>\n",
              "</div>\n",
              "      <button class=\"colab-df-convert\" onclick=\"convertToInteractive('df-62da1368-7c5b-466c-a65e-3a55c6295b7f')\"\n",
              "              title=\"Convert this dataframe to an interactive table.\"\n",
              "              style=\"display:none;\">\n",
              "        \n",
              "  <svg xmlns=\"http://www.w3.org/2000/svg\" height=\"24px\"viewBox=\"0 0 24 24\"\n",
              "       width=\"24px\">\n",
              "    <path d=\"M0 0h24v24H0V0z\" fill=\"none\"/>\n",
              "    <path d=\"M18.56 5.44l.94 2.06.94-2.06 2.06-.94-2.06-.94-.94-2.06-.94 2.06-2.06.94zm-11 1L8.5 8.5l.94-2.06 2.06-.94-2.06-.94L8.5 2.5l-.94 2.06-2.06.94zm10 10l.94 2.06.94-2.06 2.06-.94-2.06-.94-.94-2.06-.94 2.06-2.06.94z\"/><path d=\"M17.41 7.96l-1.37-1.37c-.4-.4-.92-.59-1.43-.59-.52 0-1.04.2-1.43.59L10.3 9.45l-7.72 7.72c-.78.78-.78 2.05 0 2.83L4 21.41c.39.39.9.59 1.41.59.51 0 1.02-.2 1.41-.59l7.78-7.78 2.81-2.81c.8-.78.8-2.07 0-2.86zM5.41 20L4 18.59l7.72-7.72 1.47 1.35L5.41 20z\"/>\n",
              "  </svg>\n",
              "      </button>\n",
              "      \n",
              "  <style>\n",
              "    .colab-df-container {\n",
              "      display:flex;\n",
              "      flex-wrap:wrap;\n",
              "      gap: 12px;\n",
              "    }\n",
              "\n",
              "    .colab-df-convert {\n",
              "      background-color: #E8F0FE;\n",
              "      border: none;\n",
              "      border-radius: 50%;\n",
              "      cursor: pointer;\n",
              "      display: none;\n",
              "      fill: #1967D2;\n",
              "      height: 32px;\n",
              "      padding: 0 0 0 0;\n",
              "      width: 32px;\n",
              "    }\n",
              "\n",
              "    .colab-df-convert:hover {\n",
              "      background-color: #E2EBFA;\n",
              "      box-shadow: 0px 1px 2px rgba(60, 64, 67, 0.3), 0px 1px 3px 1px rgba(60, 64, 67, 0.15);\n",
              "      fill: #174EA6;\n",
              "    }\n",
              "\n",
              "    [theme=dark] .colab-df-convert {\n",
              "      background-color: #3B4455;\n",
              "      fill: #D2E3FC;\n",
              "    }\n",
              "\n",
              "    [theme=dark] .colab-df-convert:hover {\n",
              "      background-color: #434B5C;\n",
              "      box-shadow: 0px 1px 3px 1px rgba(0, 0, 0, 0.15);\n",
              "      filter: drop-shadow(0px 1px 2px rgba(0, 0, 0, 0.3));\n",
              "      fill: #FFFFFF;\n",
              "    }\n",
              "  </style>\n",
              "\n",
              "      <script>\n",
              "        const buttonEl =\n",
              "          document.querySelector('#df-62da1368-7c5b-466c-a65e-3a55c6295b7f button.colab-df-convert');\n",
              "        buttonEl.style.display =\n",
              "          google.colab.kernel.accessAllowed ? 'block' : 'none';\n",
              "\n",
              "        async function convertToInteractive(key) {\n",
              "          const element = document.querySelector('#df-62da1368-7c5b-466c-a65e-3a55c6295b7f');\n",
              "          const dataTable =\n",
              "            await google.colab.kernel.invokeFunction('convertToInteractive',\n",
              "                                                     [key], {});\n",
              "          if (!dataTable) return;\n",
              "\n",
              "          const docLinkHtml = 'Like what you see? Visit the ' +\n",
              "            '<a target=\"_blank\" href=https://colab.research.google.com/notebooks/data_table.ipynb>data table notebook</a>'\n",
              "            + ' to learn more about interactive tables.';\n",
              "          element.innerHTML = '';\n",
              "          dataTable['output_type'] = 'display_data';\n",
              "          await google.colab.output.renderOutput(dataTable, element);\n",
              "          const docLink = document.createElement('div');\n",
              "          docLink.innerHTML = docLinkHtml;\n",
              "          element.appendChild(docLink);\n",
              "        }\n",
              "      </script>\n",
              "    </div>\n",
              "  </div>\n",
              "  "
            ],
            "text/plain": [
              "   age     sex     bmi  children smoker     region      charges\n",
              "0   19  female  27.900         0    yes  southwest  16884.92400\n",
              "1   18    male  33.770         1     no  southeast   1725.55230\n",
              "2   28    male  33.000         3     no  southeast   4449.46200\n",
              "3   33    male  22.705         0     no  northwest  21984.47061\n",
              "4   32    male  28.880         0     no  northwest   3866.85520"
            ]
          },
          "metadata": {},
          "execution_count": 8
        }
      ],
      "source": [
        "df.head()"
      ],
      "id": "zL4T3uPapMX4"
    },
    {
      "cell_type": "code",
      "execution_count": 9,
      "metadata": {
        "execution": {
          "iopub.execute_input": "2022-01-04T10:00:02.178748Z",
          "iopub.status.busy": "2022-01-04T10:00:02.177833Z",
          "iopub.status.idle": "2022-01-04T10:00:02.183311Z",
          "shell.execute_reply": "2022-01-04T10:00:02.182221Z",
          "shell.execute_reply.started": "2022-01-04T09:57:46.972380Z"
        },
        "papermill": {
          "duration": 0.054516,
          "end_time": "2022-01-04T10:00:02.183449",
          "exception": false,
          "start_time": "2022-01-04T10:00:02.128933",
          "status": "completed"
        },
        "scrolled": false,
        "tags": [],
        "colab": {
          "base_uri": "https://localhost:8080/"
        },
        "id": "O6WPqF0MpMX5",
        "outputId": "584df32b-b5cf-40d3-c9b8-c7fc9e14405e"
      },
      "outputs": [
        {
          "output_type": "stream",
          "name": "stdout",
          "text": [
            "<class 'pandas.core.frame.DataFrame'>\n",
            "RangeIndex: 1338 entries, 0 to 1337\n",
            "Data columns (total 7 columns):\n",
            " #   Column    Non-Null Count  Dtype  \n",
            "---  ------    --------------  -----  \n",
            " 0   age       1338 non-null   int64  \n",
            " 1   sex       1338 non-null   object \n",
            " 2   bmi       1338 non-null   float64\n",
            " 3   children  1338 non-null   int64  \n",
            " 4   smoker    1338 non-null   object \n",
            " 5   region    1338 non-null   object \n",
            " 6   charges   1338 non-null   float64\n",
            "dtypes: float64(2), int64(2), object(3)\n",
            "memory usage: 73.3+ KB\n"
          ]
        }
      ],
      "source": [
        "df.info()"
      ],
      "id": "O6WPqF0MpMX5"
    },
    {
      "cell_type": "code",
      "execution_count": 10,
      "metadata": {
        "colab": {
          "base_uri": "https://localhost:8080/"
        },
        "id": "rpCd289opMX5",
        "outputId": "300f9dbe-94e2-45d7-9917-2fa9d654a8a1"
      },
      "outputs": [
        {
          "output_type": "execute_result",
          "data": {
            "text/plain": [
              "age         0\n",
              "sex         0\n",
              "bmi         0\n",
              "children    0\n",
              "smoker      0\n",
              "region      0\n",
              "charges     0\n",
              "dtype: int64"
            ]
          },
          "metadata": {},
          "execution_count": 10
        }
      ],
      "source": [
        "df.isnull().sum()"
      ],
      "id": "rpCd289opMX5"
    },
    {
      "cell_type": "code",
      "execution_count": 11,
      "metadata": {
        "scrolled": true,
        "colab": {
          "base_uri": "https://localhost:8080/"
        },
        "id": "FNBpA4HfpMX6",
        "outputId": "c22c2593-6054-4f60-d4ea-fc9272e993be"
      },
      "outputs": [
        {
          "output_type": "execute_result",
          "data": {
            "text/plain": [
              "array(['southwest', 'southeast', 'northwest', 'northeast'], dtype=object)"
            ]
          },
          "metadata": {},
          "execution_count": 11
        }
      ],
      "source": [
        "df['region'].unique()"
      ],
      "id": "FNBpA4HfpMX6"
    },
    {
      "cell_type": "code",
      "execution_count": 12,
      "metadata": {
        "colab": {
          "base_uri": "https://localhost:8080/",
          "height": 1000
        },
        "id": "cPRLsaStpMX6",
        "outputId": "673b28ef-f551-4c29-d0a6-4177193785f0"
      },
      "outputs": [
        {
          "output_type": "execute_result",
          "data": {
            "text/html": [
              "\n",
              "  <div id=\"df-2151bcdc-34bd-400a-ab96-3353cd929a5d\">\n",
              "    <div class=\"colab-df-container\">\n",
              "      <div>\n",
              "<style scoped>\n",
              "    .dataframe tbody tr th:only-of-type {\n",
              "        vertical-align: middle;\n",
              "    }\n",
              "\n",
              "    .dataframe tbody tr th {\n",
              "        vertical-align: top;\n",
              "    }\n",
              "\n",
              "    .dataframe thead th {\n",
              "        text-align: right;\n",
              "    }\n",
              "</style>\n",
              "<table border=\"1\" class=\"dataframe\">\n",
              "  <thead>\n",
              "    <tr style=\"text-align: right;\">\n",
              "      <th></th>\n",
              "      <th>bmi</th>\n",
              "      <th>children</th>\n",
              "      <th>charges</th>\n",
              "    </tr>\n",
              "    <tr>\n",
              "      <th>age</th>\n",
              "      <th></th>\n",
              "      <th></th>\n",
              "      <th></th>\n",
              "    </tr>\n",
              "  </thead>\n",
              "  <tbody>\n",
              "    <tr>\n",
              "      <th>18</th>\n",
              "      <td>31.326159</td>\n",
              "      <td>0.449275</td>\n",
              "      <td>7086.217556</td>\n",
              "    </tr>\n",
              "    <tr>\n",
              "      <th>19</th>\n",
              "      <td>28.596912</td>\n",
              "      <td>0.426471</td>\n",
              "      <td>9747.909335</td>\n",
              "    </tr>\n",
              "    <tr>\n",
              "      <th>20</th>\n",
              "      <td>30.632759</td>\n",
              "      <td>0.862069</td>\n",
              "      <td>10159.697736</td>\n",
              "    </tr>\n",
              "    <tr>\n",
              "      <th>21</th>\n",
              "      <td>28.185714</td>\n",
              "      <td>0.785714</td>\n",
              "      <td>4730.464330</td>\n",
              "    </tr>\n",
              "    <tr>\n",
              "      <th>22</th>\n",
              "      <td>31.087679</td>\n",
              "      <td>0.714286</td>\n",
              "      <td>10012.932802</td>\n",
              "    </tr>\n",
              "    <tr>\n",
              "      <th>23</th>\n",
              "      <td>31.454464</td>\n",
              "      <td>1.000000</td>\n",
              "      <td>12419.820040</td>\n",
              "    </tr>\n",
              "    <tr>\n",
              "      <th>24</th>\n",
              "      <td>29.142679</td>\n",
              "      <td>0.464286</td>\n",
              "      <td>10648.015962</td>\n",
              "    </tr>\n",
              "    <tr>\n",
              "      <th>25</th>\n",
              "      <td>29.693929</td>\n",
              "      <td>1.285714</td>\n",
              "      <td>9838.365311</td>\n",
              "    </tr>\n",
              "    <tr>\n",
              "      <th>26</th>\n",
              "      <td>29.428929</td>\n",
              "      <td>1.071429</td>\n",
              "      <td>6133.825309</td>\n",
              "    </tr>\n",
              "    <tr>\n",
              "      <th>27</th>\n",
              "      <td>29.333571</td>\n",
              "      <td>0.964286</td>\n",
              "      <td>12184.701721</td>\n",
              "    </tr>\n",
              "    <tr>\n",
              "      <th>28</th>\n",
              "      <td>29.482143</td>\n",
              "      <td>1.285714</td>\n",
              "      <td>9069.187564</td>\n",
              "    </tr>\n",
              "    <tr>\n",
              "      <th>29</th>\n",
              "      <td>29.383148</td>\n",
              "      <td>1.259259</td>\n",
              "      <td>10430.158727</td>\n",
              "    </tr>\n",
              "    <tr>\n",
              "      <th>30</th>\n",
              "      <td>30.557593</td>\n",
              "      <td>1.555556</td>\n",
              "      <td>12719.110358</td>\n",
              "    </tr>\n",
              "    <tr>\n",
              "      <th>31</th>\n",
              "      <td>29.918333</td>\n",
              "      <td>1.407407</td>\n",
              "      <td>10196.980573</td>\n",
              "    </tr>\n",
              "    <tr>\n",
              "      <th>32</th>\n",
              "      <td>31.597692</td>\n",
              "      <td>1.269231</td>\n",
              "      <td>9220.300291</td>\n",
              "    </tr>\n",
              "    <tr>\n",
              "      <th>33</th>\n",
              "      <td>31.163077</td>\n",
              "      <td>1.538462</td>\n",
              "      <td>12351.532987</td>\n",
              "    </tr>\n",
              "    <tr>\n",
              "      <th>34</th>\n",
              "      <td>30.274038</td>\n",
              "      <td>1.153846</td>\n",
              "      <td>11613.528121</td>\n",
              "    </tr>\n",
              "    <tr>\n",
              "      <th>35</th>\n",
              "      <td>31.394800</td>\n",
              "      <td>1.680000</td>\n",
              "      <td>11307.182031</td>\n",
              "    </tr>\n",
              "    <tr>\n",
              "      <th>36</th>\n",
              "      <td>29.374200</td>\n",
              "      <td>1.240000</td>\n",
              "      <td>12204.476138</td>\n",
              "    </tr>\n",
              "    <tr>\n",
              "      <th>37</th>\n",
              "      <td>31.216600</td>\n",
              "      <td>1.520000</td>\n",
              "      <td>18019.911877</td>\n",
              "    </tr>\n",
              "    <tr>\n",
              "      <th>38</th>\n",
              "      <td>28.996600</td>\n",
              "      <td>1.480000</td>\n",
              "      <td>8102.733674</td>\n",
              "    </tr>\n",
              "    <tr>\n",
              "      <th>39</th>\n",
              "      <td>29.910200</td>\n",
              "      <td>2.200000</td>\n",
              "      <td>11778.242945</td>\n",
              "    </tr>\n",
              "    <tr>\n",
              "      <th>40</th>\n",
              "      <td>30.139074</td>\n",
              "      <td>1.592593</td>\n",
              "      <td>11772.251310</td>\n",
              "    </tr>\n",
              "    <tr>\n",
              "      <th>41</th>\n",
              "      <td>31.506852</td>\n",
              "      <td>1.407407</td>\n",
              "      <td>9653.745650</td>\n",
              "    </tr>\n",
              "    <tr>\n",
              "      <th>42</th>\n",
              "      <td>30.328148</td>\n",
              "      <td>1.000000</td>\n",
              "      <td>13061.038669</td>\n",
              "    </tr>\n",
              "    <tr>\n",
              "      <th>43</th>\n",
              "      <td>30.204444</td>\n",
              "      <td>1.629630</td>\n",
              "      <td>19267.278653</td>\n",
              "    </tr>\n",
              "    <tr>\n",
              "      <th>44</th>\n",
              "      <td>30.844259</td>\n",
              "      <td>1.222222</td>\n",
              "      <td>15859.396587</td>\n",
              "    </tr>\n",
              "    <tr>\n",
              "      <th>45</th>\n",
              "      <td>29.778966</td>\n",
              "      <td>1.482759</td>\n",
              "      <td>14830.199856</td>\n",
              "    </tr>\n",
              "    <tr>\n",
              "      <th>46</th>\n",
              "      <td>31.340862</td>\n",
              "      <td>1.620690</td>\n",
              "      <td>14342.590639</td>\n",
              "    </tr>\n",
              "    <tr>\n",
              "      <th>47</th>\n",
              "      <td>30.664310</td>\n",
              "      <td>1.379310</td>\n",
              "      <td>17653.999593</td>\n",
              "    </tr>\n",
              "    <tr>\n",
              "      <th>48</th>\n",
              "      <td>31.925690</td>\n",
              "      <td>1.310345</td>\n",
              "      <td>14632.500445</td>\n",
              "    </tr>\n",
              "    <tr>\n",
              "      <th>49</th>\n",
              "      <td>30.313929</td>\n",
              "      <td>1.500000</td>\n",
              "      <td>12696.006264</td>\n",
              "    </tr>\n",
              "    <tr>\n",
              "      <th>50</th>\n",
              "      <td>31.132241</td>\n",
              "      <td>1.310345</td>\n",
              "      <td>15663.003301</td>\n",
              "    </tr>\n",
              "    <tr>\n",
              "      <th>51</th>\n",
              "      <td>31.727069</td>\n",
              "      <td>1.103448</td>\n",
              "      <td>15682.255867</td>\n",
              "    </tr>\n",
              "    <tr>\n",
              "      <th>52</th>\n",
              "      <td>32.936034</td>\n",
              "      <td>1.482759</td>\n",
              "      <td>18256.269719</td>\n",
              "    </tr>\n",
              "    <tr>\n",
              "      <th>53</th>\n",
              "      <td>30.360893</td>\n",
              "      <td>1.250000</td>\n",
              "      <td>16020.930755</td>\n",
              "    </tr>\n",
              "    <tr>\n",
              "      <th>54</th>\n",
              "      <td>31.234286</td>\n",
              "      <td>1.428571</td>\n",
              "      <td>18758.546475</td>\n",
              "    </tr>\n",
              "    <tr>\n",
              "      <th>55</th>\n",
              "      <td>31.950000</td>\n",
              "      <td>0.961538</td>\n",
              "      <td>16164.545488</td>\n",
              "    </tr>\n",
              "    <tr>\n",
              "      <th>56</th>\n",
              "      <td>31.600962</td>\n",
              "      <td>0.769231</td>\n",
              "      <td>15025.515837</td>\n",
              "    </tr>\n",
              "    <tr>\n",
              "      <th>57</th>\n",
              "      <td>30.844423</td>\n",
              "      <td>0.615385</td>\n",
              "      <td>16447.185250</td>\n",
              "    </tr>\n",
              "    <tr>\n",
              "      <th>58</th>\n",
              "      <td>32.718200</td>\n",
              "      <td>0.240000</td>\n",
              "      <td>13878.928112</td>\n",
              "    </tr>\n",
              "    <tr>\n",
              "      <th>59</th>\n",
              "      <td>30.572000</td>\n",
              "      <td>1.200000</td>\n",
              "      <td>18895.869532</td>\n",
              "    </tr>\n",
              "    <tr>\n",
              "      <th>60</th>\n",
              "      <td>30.332826</td>\n",
              "      <td>0.347826</td>\n",
              "      <td>21979.418507</td>\n",
              "    </tr>\n",
              "    <tr>\n",
              "      <th>61</th>\n",
              "      <td>32.548261</td>\n",
              "      <td>0.739130</td>\n",
              "      <td>22024.457609</td>\n",
              "    </tr>\n",
              "    <tr>\n",
              "      <th>62</th>\n",
              "      <td>32.342609</td>\n",
              "      <td>0.565217</td>\n",
              "      <td>19163.856573</td>\n",
              "    </tr>\n",
              "    <tr>\n",
              "      <th>63</th>\n",
              "      <td>31.923478</td>\n",
              "      <td>0.565217</td>\n",
              "      <td>19884.998461</td>\n",
              "    </tr>\n",
              "    <tr>\n",
              "      <th>64</th>\n",
              "      <td>32.976136</td>\n",
              "      <td>0.772727</td>\n",
              "      <td>23275.530837</td>\n",
              "    </tr>\n",
              "  </tbody>\n",
              "</table>\n",
              "</div>\n",
              "      <button class=\"colab-df-convert\" onclick=\"convertToInteractive('df-2151bcdc-34bd-400a-ab96-3353cd929a5d')\"\n",
              "              title=\"Convert this dataframe to an interactive table.\"\n",
              "              style=\"display:none;\">\n",
              "        \n",
              "  <svg xmlns=\"http://www.w3.org/2000/svg\" height=\"24px\"viewBox=\"0 0 24 24\"\n",
              "       width=\"24px\">\n",
              "    <path d=\"M0 0h24v24H0V0z\" fill=\"none\"/>\n",
              "    <path d=\"M18.56 5.44l.94 2.06.94-2.06 2.06-.94-2.06-.94-.94-2.06-.94 2.06-2.06.94zm-11 1L8.5 8.5l.94-2.06 2.06-.94-2.06-.94L8.5 2.5l-.94 2.06-2.06.94zm10 10l.94 2.06.94-2.06 2.06-.94-2.06-.94-.94-2.06-.94 2.06-2.06.94z\"/><path d=\"M17.41 7.96l-1.37-1.37c-.4-.4-.92-.59-1.43-.59-.52 0-1.04.2-1.43.59L10.3 9.45l-7.72 7.72c-.78.78-.78 2.05 0 2.83L4 21.41c.39.39.9.59 1.41.59.51 0 1.02-.2 1.41-.59l7.78-7.78 2.81-2.81c.8-.78.8-2.07 0-2.86zM5.41 20L4 18.59l7.72-7.72 1.47 1.35L5.41 20z\"/>\n",
              "  </svg>\n",
              "      </button>\n",
              "      \n",
              "  <style>\n",
              "    .colab-df-container {\n",
              "      display:flex;\n",
              "      flex-wrap:wrap;\n",
              "      gap: 12px;\n",
              "    }\n",
              "\n",
              "    .colab-df-convert {\n",
              "      background-color: #E8F0FE;\n",
              "      border: none;\n",
              "      border-radius: 50%;\n",
              "      cursor: pointer;\n",
              "      display: none;\n",
              "      fill: #1967D2;\n",
              "      height: 32px;\n",
              "      padding: 0 0 0 0;\n",
              "      width: 32px;\n",
              "    }\n",
              "\n",
              "    .colab-df-convert:hover {\n",
              "      background-color: #E2EBFA;\n",
              "      box-shadow: 0px 1px 2px rgba(60, 64, 67, 0.3), 0px 1px 3px 1px rgba(60, 64, 67, 0.15);\n",
              "      fill: #174EA6;\n",
              "    }\n",
              "\n",
              "    [theme=dark] .colab-df-convert {\n",
              "      background-color: #3B4455;\n",
              "      fill: #D2E3FC;\n",
              "    }\n",
              "\n",
              "    [theme=dark] .colab-df-convert:hover {\n",
              "      background-color: #434B5C;\n",
              "      box-shadow: 0px 1px 3px 1px rgba(0, 0, 0, 0.15);\n",
              "      filter: drop-shadow(0px 1px 2px rgba(0, 0, 0, 0.3));\n",
              "      fill: #FFFFFF;\n",
              "    }\n",
              "  </style>\n",
              "\n",
              "      <script>\n",
              "        const buttonEl =\n",
              "          document.querySelector('#df-2151bcdc-34bd-400a-ab96-3353cd929a5d button.colab-df-convert');\n",
              "        buttonEl.style.display =\n",
              "          google.colab.kernel.accessAllowed ? 'block' : 'none';\n",
              "\n",
              "        async function convertToInteractive(key) {\n",
              "          const element = document.querySelector('#df-2151bcdc-34bd-400a-ab96-3353cd929a5d');\n",
              "          const dataTable =\n",
              "            await google.colab.kernel.invokeFunction('convertToInteractive',\n",
              "                                                     [key], {});\n",
              "          if (!dataTable) return;\n",
              "\n",
              "          const docLinkHtml = 'Like what you see? Visit the ' +\n",
              "            '<a target=\"_blank\" href=https://colab.research.google.com/notebooks/data_table.ipynb>data table notebook</a>'\n",
              "            + ' to learn more about interactive tables.';\n",
              "          element.innerHTML = '';\n",
              "          dataTable['output_type'] = 'display_data';\n",
              "          await google.colab.output.renderOutput(dataTable, element);\n",
              "          const docLink = document.createElement('div');\n",
              "          docLink.innerHTML = docLinkHtml;\n",
              "          element.appendChild(docLink);\n",
              "        }\n",
              "      </script>\n",
              "    </div>\n",
              "  </div>\n",
              "  "
            ],
            "text/plain": [
              "           bmi  children       charges\n",
              "age                                   \n",
              "18   31.326159  0.449275   7086.217556\n",
              "19   28.596912  0.426471   9747.909335\n",
              "20   30.632759  0.862069  10159.697736\n",
              "21   28.185714  0.785714   4730.464330\n",
              "22   31.087679  0.714286  10012.932802\n",
              "23   31.454464  1.000000  12419.820040\n",
              "24   29.142679  0.464286  10648.015962\n",
              "25   29.693929  1.285714   9838.365311\n",
              "26   29.428929  1.071429   6133.825309\n",
              "27   29.333571  0.964286  12184.701721\n",
              "28   29.482143  1.285714   9069.187564\n",
              "29   29.383148  1.259259  10430.158727\n",
              "30   30.557593  1.555556  12719.110358\n",
              "31   29.918333  1.407407  10196.980573\n",
              "32   31.597692  1.269231   9220.300291\n",
              "33   31.163077  1.538462  12351.532987\n",
              "34   30.274038  1.153846  11613.528121\n",
              "35   31.394800  1.680000  11307.182031\n",
              "36   29.374200  1.240000  12204.476138\n",
              "37   31.216600  1.520000  18019.911877\n",
              "38   28.996600  1.480000   8102.733674\n",
              "39   29.910200  2.200000  11778.242945\n",
              "40   30.139074  1.592593  11772.251310\n",
              "41   31.506852  1.407407   9653.745650\n",
              "42   30.328148  1.000000  13061.038669\n",
              "43   30.204444  1.629630  19267.278653\n",
              "44   30.844259  1.222222  15859.396587\n",
              "45   29.778966  1.482759  14830.199856\n",
              "46   31.340862  1.620690  14342.590639\n",
              "47   30.664310  1.379310  17653.999593\n",
              "48   31.925690  1.310345  14632.500445\n",
              "49   30.313929  1.500000  12696.006264\n",
              "50   31.132241  1.310345  15663.003301\n",
              "51   31.727069  1.103448  15682.255867\n",
              "52   32.936034  1.482759  18256.269719\n",
              "53   30.360893  1.250000  16020.930755\n",
              "54   31.234286  1.428571  18758.546475\n",
              "55   31.950000  0.961538  16164.545488\n",
              "56   31.600962  0.769231  15025.515837\n",
              "57   30.844423  0.615385  16447.185250\n",
              "58   32.718200  0.240000  13878.928112\n",
              "59   30.572000  1.200000  18895.869532\n",
              "60   30.332826  0.347826  21979.418507\n",
              "61   32.548261  0.739130  22024.457609\n",
              "62   32.342609  0.565217  19163.856573\n",
              "63   31.923478  0.565217  19884.998461\n",
              "64   32.976136  0.772727  23275.530837"
            ]
          },
          "metadata": {},
          "execution_count": 12
        }
      ],
      "source": [
        "df_age = df.groupby(by='age').mean()\n",
        "df_age"
      ],
      "id": "cPRLsaStpMX6"
    },
    {
      "cell_type": "markdown",
      "metadata": {
        "papermill": {
          "duration": 0.029859,
          "end_time": "2022-01-04T10:00:02.328148",
          "exception": false,
          "start_time": "2022-01-04T10:00:02.298289",
          "status": "completed"
        },
        "tags": [],
        "id": "8hs-OiuUpMX6"
      },
      "source": [
        "## Exploratory Data Analysis"
      ],
      "id": "8hs-OiuUpMX6"
    },
    {
      "cell_type": "code",
      "execution_count": 13,
      "metadata": {
        "execution": {
          "iopub.execute_input": "2022-01-04T10:00:02.396925Z",
          "iopub.status.busy": "2022-01-04T10:00:02.396156Z",
          "iopub.status.idle": "2022-01-04T10:00:03.119138Z",
          "shell.execute_reply": "2022-01-04T10:00:03.119520Z",
          "shell.execute_reply.started": "2022-01-04T09:57:47.648338Z"
        },
        "papermill": {
          "duration": 0.761548,
          "end_time": "2022-01-04T10:00:03.119667",
          "exception": false,
          "start_time": "2022-01-04T10:00:02.358119",
          "status": "completed"
        },
        "scrolled": false,
        "tags": [],
        "colab": {
          "base_uri": "https://localhost:8080/",
          "height": 1000
        },
        "id": "IyyV3mn_pMX7",
        "outputId": "7bb43407-297a-455a-f970-5ec19b9b5f6a"
      },
      "outputs": [
        {
          "output_type": "stream",
          "name": "stderr",
          "text": [
            "/usr/local/lib/python3.7/dist-packages/seaborn/_decorators.py:43: FutureWarning:\n",
            "\n",
            "Pass the following variable as a keyword arg: x. From version 0.12, the only valid positional argument will be `data`, and passing other arguments without an explicit keyword will result in an error or misinterpretation.\n",
            "\n",
            "/usr/local/lib/python3.7/dist-packages/seaborn/_decorators.py:43: FutureWarning:\n",
            "\n",
            "Pass the following variable as a keyword arg: x. From version 0.12, the only valid positional argument will be `data`, and passing other arguments without an explicit keyword will result in an error or misinterpretation.\n",
            "\n",
            "/usr/local/lib/python3.7/dist-packages/seaborn/_decorators.py:43: FutureWarning:\n",
            "\n",
            "Pass the following variable as a keyword arg: x. From version 0.12, the only valid positional argument will be `data`, and passing other arguments without an explicit keyword will result in an error or misinterpretation.\n",
            "\n",
            "/usr/local/lib/python3.7/dist-packages/seaborn/_decorators.py:43: FutureWarning:\n",
            "\n",
            "Pass the following variable as a keyword arg: x. From version 0.12, the only valid positional argument will be `data`, and passing other arguments without an explicit keyword will result in an error or misinterpretation.\n",
            "\n"
          ]
        },
        {
          "output_type": "display_data",
          "data": {
            "image/png": "[encoded data removed]",
            "text/plain": [
              "<Figure size 1080x360 with 1 Axes>"
            ]
          },
          "metadata": {
            "needs_background": "light"
          }
        },
        {
          "output_type": "display_data",
          "data": {
            "image/png": "[encoded data removed]",
            "text/plain": [
              "<Figure size 1080x360 with 1 Axes>"
            ]
          },
          "metadata": {
            "needs_background": "light"
          }
        },
        {
          "output_type": "display_data",
          "data": {
            "image/png": "[encoded data removed]",
            "text/plain": [
              "<Figure size 1080x360 with 1 Axes>"
            ]
          },
          "metadata": {
            "needs_background": "light"
          }
        },
        {
          "output_type": "display_data",
          "data": {
            "image/png": "[encoded data removed]",
            "text/plain": [
              "<Figure size 1080x360 with 1 Axes>"
            ]
          },
          "metadata": {
            "needs_background": "light"
          }
        }
      ],
      "source": [
        "insights = []\n",
        "counter = 1\n",
        "for i in df.columns:\n",
        "    if df[i].nunique() < 20:\n",
        "        plt.figure(figsize=(15,5))\n",
        "        plt.title(f'Distribution based on {i}')\n",
        "        c = Counter(df[i])\n",
        "        sns.countplot(df[i],palette='coolwarm')\n",
        "        plt.figtext(0.12, 0.01, 'Analysis', fontname = 'monospace', size = 12, color = '#dd4124')\n",
        "        plt.figtext(0.12, -0.14, f\"{counter}) Most of the customer's {i} = {c.most_common(1)[0][0]}\",fontname = 'monospace', size = 11, color = '#dd4124')\n",
        "        insights.append((f\"**{counter}) Most of the customer's {i} = {c.most_common(1)[0][0]}**\\n\\n\"))\n",
        "        counter+=1"
      ],
      "id": "IyyV3mn_pMX7"
    },
    {
      "cell_type": "markdown",
      "metadata": {
        "id": "IciMI2zOpMX7"
      },
      "source": [
        "### Checking for Linear correlation between Patient attributes and charges"
      ],
      "id": "IciMI2zOpMX7"
    },
    {
      "cell_type": "code",
      "execution_count": 14,
      "metadata": {
        "scrolled": true,
        "colab": {
          "base_uri": "https://localhost:8080/",
          "height": 295
        },
        "id": "2-uGsLpupMX7",
        "outputId": "7a93e925-6be9-4be4-bd26-2e071eed8cb1"
      },
      "outputs": [
        {
          "output_type": "display_data",
          "data": {
            "image/png": "[encoded data removed]",
            "text/plain": [
              "<Figure size 432x288 with 1 Axes>"
            ]
          },
          "metadata": {
            "needs_background": "light"
          }
        }
      ],
      "source": [
        "sns.regplot(x='age', y='charges', data=df)\n",
        "plt.title('Age vs Charges')\n",
        "plt.show()"
      ],
      "id": "2-uGsLpupMX7"
    },
    {
      "cell_type": "code",
      "execution_count": 15,
      "metadata": {
        "colab": {
          "base_uri": "https://localhost:8080/",
          "height": 295
        },
        "id": "RMYnz7hopMX8",
        "outputId": "4bbb8b06-0f47-40b8-db05-90deb95fc82c"
      },
      "outputs": [
        {
          "output_type": "display_data",
          "data": {
            "image/png": "[encoded data removed]",
            "text/plain": [
              "<Figure size 432x288 with 1 Axes>"
            ]
          },
          "metadata": {
            "needs_background": "light"
          }
        }
      ],
      "source": [
        "sns.regplot(x='bmi', y='charges', data=df)\n",
        "plt.title('BMI vs CHARGES')\n",
        "plt.show()"
      ],
      "id": "RMYnz7hopMX8"
    },
    {
      "cell_type": "markdown",
      "metadata": {
        "papermill": {
          "duration": 0.032988,
          "end_time": "2022-01-04T10:00:03.185886",
          "exception": false,
          "start_time": "2022-01-04T10:00:03.152898",
          "status": "completed"
        },
        "tags": [],
        "id": "vStyJqtCpMX8"
      },
      "source": [
        "## Distribution Based on Smoker and Total Charges"
      ],
      "id": "vStyJqtCpMX8"
    },
    {
      "cell_type": "code",
      "execution_count": 16,
      "metadata": {
        "execution": {
          "iopub.execute_input": "2022-01-04T10:00:03.258246Z",
          "iopub.status.busy": "2022-01-04T10:00:03.257329Z",
          "iopub.status.idle": "2022-01-04T10:00:03.260055Z",
          "shell.execute_reply": "2022-01-04T10:00:03.259610Z",
          "shell.execute_reply.started": "2022-01-04T09:57:48.543103Z"
        },
        "papermill": {
          "duration": 0.041496,
          "end_time": "2022-01-04T10:00:03.260165",
          "exception": false,
          "start_time": "2022-01-04T10:00:03.218669",
          "status": "completed"
        },
        "tags": [],
        "id": "fgHa61rCpMX8"
      },
      "outputs": [],
      "source": [
        "smokercharges = df.groupby('smoker')['charges'].sum()"
      ],
      "id": "fgHa61rCpMX8"
    },
    {
      "cell_type": "code",
      "execution_count": 17,
      "metadata": {
        "scrolled": false,
        "colab": {
          "base_uri": "https://localhost:8080/"
        },
        "id": "-jwlhNN4pMX8",
        "outputId": "c45e6b53-2129-4e41-97f6-5712e531ad3e"
      },
      "outputs": [
        {
          "output_type": "execute_result",
          "data": {
            "text/plain": [
              "smoker\n",
              "no     8.974061e+06\n",
              "yes    8.781764e+06\n",
              "Name: charges, dtype: float64"
            ]
          },
          "metadata": {},
          "execution_count": 17
        }
      ],
      "source": [
        "smokercharges"
      ],
      "id": "-jwlhNN4pMX8"
    },
    {
      "cell_type": "code",
      "execution_count": 18,
      "metadata": {
        "colab": {
          "base_uri": "https://localhost:8080/"
        },
        "id": "aVgtZFKipMX8",
        "outputId": "2f198bdf-7976-40b4-91e0-83bd91540e01"
      },
      "outputs": [
        {
          "output_type": "execute_result",
          "data": {
            "text/plain": [
              "array([8974061.468919, 8781763.52184 ])"
            ]
          },
          "metadata": {},
          "execution_count": 18
        }
      ],
      "source": [
        "smokercharges.values"
      ],
      "id": "aVgtZFKipMX8"
    },
    {
      "cell_type": "code",
      "execution_count": 19,
      "metadata": {
        "execution": {
          "iopub.execute_input": "2022-01-04T10:00:03.329750Z",
          "iopub.status.busy": "2022-01-04T10:00:03.329146Z",
          "iopub.status.idle": "2022-01-04T10:00:04.220688Z",
          "shell.execute_reply": "2022-01-04T10:00:04.220247Z",
          "shell.execute_reply.started": "2022-01-04T09:57:48.557992Z"
        },
        "papermill": {
          "duration": 0.928232,
          "end_time": "2022-01-04T10:00:04.220805",
          "exception": false,
          "start_time": "2022-01-04T10:00:03.292573",
          "status": "completed"
        },
        "tags": [],
        "colab": {
          "base_uri": "https://localhost:8080/",
          "height": 0
        },
        "id": "wn9r7zQKpMX9",
        "outputId": "c0ed2085-462b-4b45-dcf7-841ae332d148"
      },
      "outputs": [
        {
          "output_type": "display_data",
          "data": {
            "text/html": [
              "<html>\n",
              "<head><meta charset=\"utf-8\" /></head>\n",
              "<body>\n",
              "    <div>\n",
              "            <script src=\"https://cdnjs.cloudflare.com/ajax/libs/mathjax/2.7.5/MathJax.js?config=TeX-AMS-MML_SVG\"></script><script type=\"text/javascript\">if (window.MathJax) {MathJax.Hub.Config({SVG: {font: \"STIX-Web\"}});}</script>\n",
              "                <script type=\"text/javascript\">window.PlotlyConfig = {MathJaxConfig: 'local'};</script>\n",
              "        <script src=\"https://cdn.plot.ly/plotly-latest.min.js\"></script>    \n",
              "            <div id=\"9838f6db-f938-44b9-b8b5-1a6a3799809e\" class=\"plotly-graph-div\" style=\"height:525px; width:100%;\"></div>\n",
              "            <script type=\"text/javascript\">\n",
              "                \n",
              "                    window.PLOTLYENV=window.PLOTLYENV || {};\n",
              "                    \n",
              "                if (document.getElementById(\"9838f6db-f938-44b9-b8b5-1a6a3799809e\")) {\n",
              "                    Plotly.newPlot(\n",
              "                        '9838f6db-f938-44b9-b8b5-1a6a3799809e',\n",
              "                        [{\"alignmentgroup\": \"True\", \"hoverlabel\": {\"namelength\": 0}, \"hovertemplate\": \"color=no<br>x=%{x}<br>y=%{y}\", \"legendgroup\": \"color=no\", \"marker\": {\"color\": \"#636efa\"}, \"name\": \"color=no\", \"offsetgroup\": \"color=no\", \"orientation\": \"v\", \"showlegend\": true, \"textposition\": \"auto\", \"type\": \"bar\", \"x\": [\"no\"], \"xaxis\": \"x\", \"y\": [8974061.468918996], \"yaxis\": \"y\"}, {\"alignmentgroup\": \"True\", \"hoverlabel\": {\"namelength\": 0}, \"hovertemplate\": \"color=yes<br>x=%{x}<br>y=%{y}\", \"legendgroup\": \"color=yes\", \"marker\": {\"color\": \"#EF553B\"}, \"name\": \"color=yes\", \"offsetgroup\": \"color=yes\", \"orientation\": \"v\", \"showlegend\": true, \"textposition\": \"auto\", \"type\": \"bar\", \"x\": [\"yes\"], \"xaxis\": \"x\", \"y\": [8781763.52184], \"yaxis\": \"y\"}],\n",
              "                        {\"barmode\": \"relative\", \"legend\": {\"tracegroupgap\": 0}, \"margin\": {\"t\": 60}, \"template\": {\"data\": {\"bar\": [{\"error_x\": {\"color\": \"#f2f5fa\"}, \"error_y\": {\"color\": \"#f2f5fa\"}, \"marker\": {\"line\": {\"color\": \"rgb(17,17,17)\", \"width\": 0.5}}, \"type\": \"bar\"}], \"barpolar\": [{\"marker\": {\"line\": {\"color\": \"rgb(17,17,17)\", \"width\": 0.5}}, \"type\": \"barpolar\"}], \"carpet\": [{\"aaxis\": {\"endlinecolor\": \"#A2B1C6\", \"gridcolor\": \"#506784\", \"linecolor\": \"#506784\", \"minorgridcolor\": \"#506784\", \"startlinecolor\": \"#A2B1C6\"}, \"baxis\": {\"endlinecolor\": \"#A2B1C6\", \"gridcolor\": \"#506784\", \"linecolor\": \"#506784\", \"minorgridcolor\": \"#506784\", \"startlinecolor\": \"#A2B1C6\"}, \"type\": \"carpet\"}], \"choropleth\": [{\"colorbar\": {\"outlinewidth\": 0, \"ticks\": \"\"}, \"type\": \"choropleth\"}], \"contour\": [{\"colorbar\": {\"outlinewidth\": 0, \"ticks\": \"\"}, \"colorscale\": [[0.0, \"#0d0887\"], [0.1111111111111111, \"#46039f\"], [0.2222222222222222, \"#7201a8\"], [0.3333333333333333, \"#9c179e\"], [0.4444444444444444, \"#bd3786\"], [0.5555555555555556, \"#d8576b\"], [0.6666666666666666, \"#ed7953\"], [0.7777777777777778, \"#fb9f3a\"], [0.8888888888888888, \"#fdca26\"], [1.0, \"#f0f921\"]], \"type\": \"contour\"}], \"contourcarpet\": [{\"colorbar\": {\"outlinewidth\": 0, \"ticks\": \"\"}, \"type\": \"contourcarpet\"}], \"heatmap\": [{\"colorbar\": {\"outlinewidth\": 0, \"ticks\": \"\"}, \"colorscale\": [[0.0, \"#0d0887\"], [0.1111111111111111, \"#46039f\"], [0.2222222222222222, \"#7201a8\"], [0.3333333333333333, \"#9c179e\"], [0.4444444444444444, \"#bd3786\"], [0.5555555555555556, \"#d8576b\"], [0.6666666666666666, \"#ed7953\"], [0.7777777777777778, \"#fb9f3a\"], [0.8888888888888888, \"#fdca26\"], [1.0, \"#f0f921\"]], \"type\": \"heatmap\"}], \"heatmapgl\": [{\"colorbar\": {\"outlinewidth\": 0, \"ticks\": \"\"}, \"colorscale\": [[0.0, \"#0d0887\"], [0.1111111111111111, \"#46039f\"], [0.2222222222222222, \"#7201a8\"], [0.3333333333333333, \"#9c179e\"], [0.4444444444444444, \"#bd3786\"], [0.5555555555555556, \"#d8576b\"], [0.6666666666666666, \"#ed7953\"], [0.7777777777777778, \"#fb9f3a\"], [0.8888888888888888, \"#fdca26\"], [1.0, \"#f0f921\"]], \"type\": \"heatmapgl\"}], \"histogram\": [{\"marker\": {\"colorbar\": {\"outlinewidth\": 0, \"ticks\": \"\"}}, \"type\": \"histogram\"}], \"histogram2d\": [{\"colorbar\": {\"outlinewidth\": 0, \"ticks\": \"\"}, \"colorscale\": [[0.0, \"#0d0887\"], [0.1111111111111111, \"#46039f\"], [0.2222222222222222, \"#7201a8\"], [0.3333333333333333, \"#9c179e\"], [0.4444444444444444, \"#bd3786\"], [0.5555555555555556, \"#d8576b\"], [0.6666666666666666, \"#ed7953\"], [0.7777777777777778, \"#fb9f3a\"], [0.8888888888888888, \"#fdca26\"], [1.0, \"#f0f921\"]], \"type\": \"histogram2d\"}], \"histogram2dcontour\": [{\"colorbar\": {\"outlinewidth\": 0, \"ticks\": \"\"}, \"colorscale\": [[0.0, \"#0d0887\"], [0.1111111111111111, \"#46039f\"], [0.2222222222222222, \"#7201a8\"], [0.3333333333333333, \"#9c179e\"], [0.4444444444444444, \"#bd3786\"], [0.5555555555555556, \"#d8576b\"], [0.6666666666666666, \"#ed7953\"], [0.7777777777777778, \"#fb9f3a\"], [0.8888888888888888, \"#fdca26\"], [1.0, \"#f0f921\"]], \"type\": \"histogram2dcontour\"}], \"mesh3d\": [{\"colorbar\": {\"outlinewidth\": 0, \"ticks\": \"\"}, \"type\": \"mesh3d\"}], \"parcoords\": [{\"line\": {\"colorbar\": {\"outlinewidth\": 0, \"ticks\": \"\"}}, \"type\": \"parcoords\"}], \"pie\": [{\"automargin\": true, \"type\": \"pie\"}], \"scatter\": [{\"marker\": {\"line\": {\"color\": \"#283442\"}}, \"type\": \"scatter\"}], \"scatter3d\": [{\"line\": {\"colorbar\": {\"outlinewidth\": 0, \"ticks\": \"\"}}, \"marker\": {\"colorbar\": {\"outlinewidth\": 0, \"ticks\": \"\"}}, \"type\": \"scatter3d\"}], \"scattercarpet\": [{\"marker\": {\"colorbar\": {\"outlinewidth\": 0, \"ticks\": \"\"}}, \"type\": \"scattercarpet\"}], \"scattergeo\": [{\"marker\": {\"colorbar\": {\"outlinewidth\": 0, \"ticks\": \"\"}}, \"type\": \"scattergeo\"}], \"scattergl\": [{\"marker\": {\"line\": {\"color\": \"#283442\"}}, \"type\": \"scattergl\"}], \"scattermapbox\": [{\"marker\": {\"colorbar\": {\"outlinewidth\": 0, \"ticks\": \"\"}}, \"type\": \"scattermapbox\"}], \"scatterpolar\": [{\"marker\": {\"colorbar\": {\"outlinewidth\": 0, \"ticks\": \"\"}}, \"type\": \"scatterpolar\"}], \"scatterpolargl\": [{\"marker\": {\"colorbar\": {\"outlinewidth\": 0, \"ticks\": \"\"}}, \"type\": \"scatterpolargl\"}], \"scatterternary\": [{\"marker\": {\"colorbar\": {\"outlinewidth\": 0, \"ticks\": \"\"}}, \"type\": \"scatterternary\"}], \"surface\": [{\"colorbar\": {\"outlinewidth\": 0, \"ticks\": \"\"}, \"colorscale\": [[0.0, \"#0d0887\"], [0.1111111111111111, \"#46039f\"], [0.2222222222222222, \"#7201a8\"], [0.3333333333333333, \"#9c179e\"], [0.4444444444444444, \"#bd3786\"], [0.5555555555555556, \"#d8576b\"], [0.6666666666666666, \"#ed7953\"], [0.7777777777777778, \"#fb9f3a\"], [0.8888888888888888, \"#fdca26\"], [1.0, \"#f0f921\"]], \"type\": \"surface\"}], \"table\": [{\"cells\": {\"fill\": {\"color\": \"#506784\"}, \"line\": {\"color\": \"rgb(17,17,17)\"}}, \"header\": {\"fill\": {\"color\": \"#2a3f5f\"}, \"line\": {\"color\": \"rgb(17,17,17)\"}}, \"type\": \"table\"}]}, \"layout\": {\"annotationdefaults\": {\"arrowcolor\": \"#f2f5fa\", \"arrowhead\": 0, \"arrowwidth\": 1}, \"coloraxis\": {\"colorbar\": {\"outlinewidth\": 0, \"ticks\": \"\"}}, \"colorscale\": {\"diverging\": [[0, \"#8e0152\"], [0.1, \"#c51b7d\"], [0.2, \"#de77ae\"], [0.3, \"#f1b6da\"], [0.4, \"#fde0ef\"], [0.5, \"#f7f7f7\"], [0.6, \"#e6f5d0\"], [0.7, \"#b8e186\"], [0.8, \"#7fbc41\"], [0.9, \"#4d9221\"], [1, \"#276419\"]], \"sequential\": [[0.0, \"#0d0887\"], [0.1111111111111111, \"#46039f\"], [0.2222222222222222, \"#7201a8\"], [0.3333333333333333, \"#9c179e\"], [0.4444444444444444, \"#bd3786\"], [0.5555555555555556, \"#d8576b\"], [0.6666666666666666, \"#ed7953\"], [0.7777777777777778, \"#fb9f3a\"], [0.8888888888888888, \"#fdca26\"], [1.0, \"#f0f921\"]], \"sequentialminus\": [[0.0, \"#0d0887\"], [0.1111111111111111, \"#46039f\"], [0.2222222222222222, \"#7201a8\"], [0.3333333333333333, \"#9c179e\"], [0.4444444444444444, \"#bd3786\"], [0.5555555555555556, \"#d8576b\"], [0.6666666666666666, \"#ed7953\"], [0.7777777777777778, \"#fb9f3a\"], [0.8888888888888888, \"#fdca26\"], [1.0, \"#f0f921\"]]}, \"colorway\": [\"#636efa\", \"#EF553B\", \"#00cc96\", \"#ab63fa\", \"#FFA15A\", \"#19d3f3\", \"#FF6692\", \"#B6E880\", \"#FF97FF\", \"#FECB52\"], \"font\": {\"color\": \"#f2f5fa\"}, \"geo\": {\"bgcolor\": \"rgb(17,17,17)\", \"lakecolor\": \"rgb(17,17,17)\", \"landcolor\": \"rgb(17,17,17)\", \"showlakes\": true, \"showland\": true, \"subunitcolor\": \"#506784\"}, \"hoverlabel\": {\"align\": \"left\"}, \"hovermode\": \"closest\", \"mapbox\": {\"style\": \"dark\"}, \"paper_bgcolor\": \"rgb(17,17,17)\", \"plot_bgcolor\": \"rgb(17,17,17)\", \"polar\": {\"angularaxis\": {\"gridcolor\": \"#506784\", \"linecolor\": \"#506784\", \"ticks\": \"\"}, \"bgcolor\": \"rgb(17,17,17)\", \"radialaxis\": {\"gridcolor\": \"#506784\", \"linecolor\": \"#506784\", \"ticks\": \"\"}}, \"scene\": {\"xaxis\": {\"backgroundcolor\": \"rgb(17,17,17)\", \"gridcolor\": \"#506784\", \"gridwidth\": 2, \"linecolor\": \"#506784\", \"showbackground\": true, \"ticks\": \"\", \"zerolinecolor\": \"#C8D4E3\"}, \"yaxis\": {\"backgroundcolor\": \"rgb(17,17,17)\", \"gridcolor\": \"#506784\", \"gridwidth\": 2, \"linecolor\": \"#506784\", \"showbackground\": true, \"ticks\": \"\", \"zerolinecolor\": \"#C8D4E3\"}, \"zaxis\": {\"backgroundcolor\": \"rgb(17,17,17)\", \"gridcolor\": \"#506784\", \"gridwidth\": 2, \"linecolor\": \"#506784\", \"showbackground\": true, \"ticks\": \"\", \"zerolinecolor\": \"#C8D4E3\"}}, \"shapedefaults\": {\"line\": {\"color\": \"#f2f5fa\"}}, \"sliderdefaults\": {\"bgcolor\": \"#C8D4E3\", \"bordercolor\": \"rgb(17,17,17)\", \"borderwidth\": 1, \"tickwidth\": 0}, \"ternary\": {\"aaxis\": {\"gridcolor\": \"#506784\", \"linecolor\": \"#506784\", \"ticks\": \"\"}, \"baxis\": {\"gridcolor\": \"#506784\", \"linecolor\": \"#506784\", \"ticks\": \"\"}, \"bgcolor\": \"rgb(17,17,17)\", \"caxis\": {\"gridcolor\": \"#506784\", \"linecolor\": \"#506784\", \"ticks\": \"\"}}, \"title\": {\"x\": 0.05}, \"updatemenudefaults\": {\"bgcolor\": \"#506784\", \"borderwidth\": 0}, \"xaxis\": {\"automargin\": true, \"gridcolor\": \"#283442\", \"linecolor\": \"#506784\", \"ticks\": \"\", \"title\": {\"standoff\": 15}, \"zerolinecolor\": \"#283442\", \"zerolinewidth\": 2}, \"yaxis\": {\"automargin\": true, \"gridcolor\": \"#283442\", \"linecolor\": \"#506784\", \"ticks\": \"\", \"title\": {\"standoff\": 15}, \"zerolinecolor\": \"#283442\", \"zerolinewidth\": 2}}}, \"title\": {\"text\": \"Distribution Based on Smoker and Total Charges\"}, \"xaxis\": {\"anchor\": \"y\", \"domain\": [0.0, 1.0], \"title\": {\"text\": \"Smoker\"}}, \"yaxis\": {\"anchor\": \"x\", \"domain\": [0.0, 1.0], \"title\": {\"text\": \"Charges\"}}},\n",
              "                        {\"responsive\": true}\n",
              "                    ).then(function(){\n",
              "                            \n",
              "var gd = document.getElementById('9838f6db-f938-44b9-b8b5-1a6a3799809e');\n",
              "var x = new MutationObserver(function (mutations, observer) {{\n",
              "        var display = window.getComputedStyle(gd).display;\n",
              "        if (!display || display === 'none') {{\n",
              "            console.log([gd, 'removed!']);\n",
              "            Plotly.purge(gd);\n",
              "            observer.disconnect();\n",
              "        }}\n",
              "}});\n",
              "\n",
              "// Listen for the removal of the full notebook cells\n",
              "var notebookContainer = gd.closest('#notebook-container');\n",
              "if (notebookContainer) {{\n",
              "    x.observe(notebookContainer, {childList: true});\n",
              "}}\n",
              "\n",
              "// Listen for the clearing of the current output cell\n",
              "var outputEl = gd.closest('.output');\n",
              "if (outputEl) {{\n",
              "    x.observe(outputEl, {childList: true});\n",
              "}}\n",
              "\n",
              "                        })\n",
              "                };\n",
              "                \n",
              "            </script>\n",
              "        </div>\n",
              "</body>\n",
              "</html>"
            ]
          },
          "metadata": {}
        }
      ],
      "source": [
        "fig = px.bar(x = [i for i in smokercharges.index], y = [i for i in smokercharges],color =[i for i in smokercharges.index],template='plotly_dark')\n",
        "fig.update_layout(xaxis_title = 'Smoker', yaxis_title = \"Charges\",title = \"Distribution Based on Smoker and Total Charges\")"
      ],
      "id": "wn9r7zQKpMX9"
    },
    {
      "cell_type": "markdown",
      "metadata": {
        "papermill": {
          "duration": 0.034081,
          "end_time": "2022-01-04T10:00:04.290290",
          "exception": false,
          "start_time": "2022-01-04T10:00:04.256209",
          "status": "completed"
        },
        "tags": [],
        "id": "TPeNtR1ZpMX9"
      },
      "source": [
        "**Although distribution of Smoker_Yes was very low as compared to Smoker_No, the charges are not substantially differing from each other, Which means people who all are smoking have higher insurance charges.**"
      ],
      "id": "TPeNtR1ZpMX9"
    },
    {
      "cell_type": "markdown",
      "metadata": {
        "papermill": {
          "duration": 0.033531,
          "end_time": "2022-01-04T10:00:04.357707",
          "exception": false,
          "start_time": "2022-01-04T10:00:04.324176",
          "status": "completed"
        },
        "tags": [],
        "id": "FDL9MYztpMX9"
      },
      "source": [
        "## Distribution based on Average Insurance Costs by Age and Smoking Status"
      ],
      "id": "FDL9MYztpMX9"
    },
    {
      "cell_type": "code",
      "execution_count": 20,
      "metadata": {
        "execution": {
          "iopub.execute_input": "2022-01-04T10:00:04.431257Z",
          "iopub.status.busy": "2022-01-04T10:00:04.430651Z",
          "iopub.status.idle": "2022-01-04T10:00:04.434087Z",
          "shell.execute_reply": "2022-01-04T10:00:04.433636Z",
          "shell.execute_reply.started": "2022-01-04T09:57:48.654731Z"
        },
        "papermill": {
          "duration": 0.042889,
          "end_time": "2022-01-04T10:00:04.434196",
          "exception": false,
          "start_time": "2022-01-04T10:00:04.391307",
          "status": "completed"
        },
        "tags": [],
        "id": "Q-AyFYX1pMX9"
      },
      "outputs": [],
      "source": [
        "df['Age_Group'] = ['18 - 29' if i<30 else '30 - 49' if i>=30 and i < 50 else '50 +' if i > 50 and i <60 else 'Over 60' for i in df.age]"
      ],
      "id": "Q-AyFYX1pMX9"
    },
    {
      "cell_type": "code",
      "execution_count": 21,
      "metadata": {
        "id": "t_bxYjRdpMX-"
      },
      "outputs": [],
      "source": [
        "plot_df = df.groupby(['Age_Group','smoker'])['charges'].mean()\n",
        "plot_df = plot_df.rename('charges').reset_index().sort_values('smoker', ascending=True)"
      ],
      "id": "t_bxYjRdpMX-"
    },
    {
      "cell_type": "code",
      "execution_count": 22,
      "metadata": {
        "colab": {
          "base_uri": "https://localhost:8080/",
          "height": 300
        },
        "id": "eOeRL87GpMX-",
        "outputId": "88b3dd89-9f14-45b2-f026-ce132bafb02a"
      },
      "outputs": [
        {
          "output_type": "execute_result",
          "data": {
            "text/html": [
              "\n",
              "  <div id=\"df-0a5cd863-3851-416a-8a6d-1f5a256c4c06\">\n",
              "    <div class=\"colab-df-container\">\n",
              "      <div>\n",
              "<style scoped>\n",
              "    .dataframe tbody tr th:only-of-type {\n",
              "        vertical-align: middle;\n",
              "    }\n",
              "\n",
              "    .dataframe tbody tr th {\n",
              "        vertical-align: top;\n",
              "    }\n",
              "\n",
              "    .dataframe thead th {\n",
              "        text-align: right;\n",
              "    }\n",
              "</style>\n",
              "<table border=\"1\" class=\"dataframe\">\n",
              "  <thead>\n",
              "    <tr style=\"text-align: right;\">\n",
              "      <th></th>\n",
              "      <th>Age_Group</th>\n",
              "      <th>smoker</th>\n",
              "      <th>charges</th>\n",
              "    </tr>\n",
              "  </thead>\n",
              "  <tbody>\n",
              "    <tr>\n",
              "      <th>0</th>\n",
              "      <td>18 - 29</td>\n",
              "      <td>no</td>\n",
              "      <td>4418.568274</td>\n",
              "    </tr>\n",
              "    <tr>\n",
              "      <th>2</th>\n",
              "      <td>30 - 49</td>\n",
              "      <td>no</td>\n",
              "      <td>7821.924186</td>\n",
              "    </tr>\n",
              "    <tr>\n",
              "      <th>4</th>\n",
              "      <td>50 +</td>\n",
              "      <td>no</td>\n",
              "      <td>12822.026582</td>\n",
              "    </tr>\n",
              "    <tr>\n",
              "      <th>6</th>\n",
              "      <td>Over 60</td>\n",
              "      <td>no</td>\n",
              "      <td>14545.352319</td>\n",
              "    </tr>\n",
              "    <tr>\n",
              "      <th>1</th>\n",
              "      <td>18 - 29</td>\n",
              "      <td>yes</td>\n",
              "      <td>27518.035262</td>\n",
              "    </tr>\n",
              "    <tr>\n",
              "      <th>3</th>\n",
              "      <td>30 - 49</td>\n",
              "      <td>yes</td>\n",
              "      <td>31502.707094</td>\n",
              "    </tr>\n",
              "    <tr>\n",
              "      <th>5</th>\n",
              "      <td>50 +</td>\n",
              "      <td>yes</td>\n",
              "      <td>37499.067760</td>\n",
              "    </tr>\n",
              "    <tr>\n",
              "      <th>7</th>\n",
              "      <td>Over 60</td>\n",
              "      <td>yes</td>\n",
              "      <td>40239.423577</td>\n",
              "    </tr>\n",
              "  </tbody>\n",
              "</table>\n",
              "</div>\n",
              "      <button class=\"colab-df-convert\" onclick=\"convertToInteractive('df-0a5cd863-3851-416a-8a6d-1f5a256c4c06')\"\n",
              "              title=\"Convert this dataframe to an interactive table.\"\n",
              "              style=\"display:none;\">\n",
              "        \n",
              "  <svg xmlns=\"http://www.w3.org/2000/svg\" height=\"24px\"viewBox=\"0 0 24 24\"\n",
              "       width=\"24px\">\n",
              "    <path d=\"M0 0h24v24H0V0z\" fill=\"none\"/>\n",
              "    <path d=\"M18.56 5.44l.94 2.06.94-2.06 2.06-.94-2.06-.94-.94-2.06-.94 2.06-2.06.94zm-11 1L8.5 8.5l.94-2.06 2.06-.94-2.06-.94L8.5 2.5l-.94 2.06-2.06.94zm10 10l.94 2.06.94-2.06 2.06-.94-2.06-.94-.94-2.06-.94 2.06-2.06.94z\"/><path d=\"M17.41 7.96l-1.37-1.37c-.4-.4-.92-.59-1.43-.59-.52 0-1.04.2-1.43.59L10.3 9.45l-7.72 7.72c-.78.78-.78 2.05 0 2.83L4 21.41c.39.39.9.59 1.41.59.51 0 1.02-.2 1.41-.59l7.78-7.78 2.81-2.81c.8-.78.8-2.07 0-2.86zM5.41 20L4 18.59l7.72-7.72 1.47 1.35L5.41 20z\"/>\n",
              "  </svg>\n",
              "      </button>\n",
              "      \n",
              "  <style>\n",
              "    .colab-df-container {\n",
              "      display:flex;\n",
              "      flex-wrap:wrap;\n",
              "      gap: 12px;\n",
              "    }\n",
              "\n",
              "    .colab-df-convert {\n",
              "      background-color: #E8F0FE;\n",
              "      border: none;\n",
              "      border-radius: 50%;\n",
              "      cursor: pointer;\n",
              "      display: none;\n",
              "      fill: #1967D2;\n",
              "      height: 32px;\n",
              "      padding: 0 0 0 0;\n",
              "      width: 32px;\n",
              "    }\n",
              "\n",
              "    .colab-df-convert:hover {\n",
              "      background-color: #E2EBFA;\n",
              "      box-shadow: 0px 1px 2px rgba(60, 64, 67, 0.3), 0px 1px 3px 1px rgba(60, 64, 67, 0.15);\n",
              "      fill: #174EA6;\n",
              "    }\n",
              "\n",
              "    [theme=dark] .colab-df-convert {\n",
              "      background-color: #3B4455;\n",
              "      fill: #D2E3FC;\n",
              "    }\n",
              "\n",
              "    [theme=dark] .colab-df-convert:hover {\n",
              "      background-color: #434B5C;\n",
              "      box-shadow: 0px 1px 3px 1px rgba(0, 0, 0, 0.15);\n",
              "      filter: drop-shadow(0px 1px 2px rgba(0, 0, 0, 0.3));\n",
              "      fill: #FFFFFF;\n",
              "    }\n",
              "  </style>\n",
              "\n",
              "      <script>\n",
              "        const buttonEl =\n",
              "          document.querySelector('#df-0a5cd863-3851-416a-8a6d-1f5a256c4c06 button.colab-df-convert');\n",
              "        buttonEl.style.display =\n",
              "          google.colab.kernel.accessAllowed ? 'block' : 'none';\n",
              "\n",
              "        async function convertToInteractive(key) {\n",
              "          const element = document.querySelector('#df-0a5cd863-3851-416a-8a6d-1f5a256c4c06');\n",
              "          const dataTable =\n",
              "            await google.colab.kernel.invokeFunction('convertToInteractive',\n",
              "                                                     [key], {});\n",
              "          if (!dataTable) return;\n",
              "\n",
              "          const docLinkHtml = 'Like what you see? Visit the ' +\n",
              "            '<a target=\"_blank\" href=https://colab.research.google.com/notebooks/data_table.ipynb>data table notebook</a>'\n",
              "            + ' to learn more about interactive tables.';\n",
              "          element.innerHTML = '';\n",
              "          dataTable['output_type'] = 'display_data';\n",
              "          await google.colab.output.renderOutput(dataTable, element);\n",
              "          const docLink = document.createElement('div');\n",
              "          docLink.innerHTML = docLinkHtml;\n",
              "          element.appendChild(docLink);\n",
              "        }\n",
              "      </script>\n",
              "    </div>\n",
              "  </div>\n",
              "  "
            ],
            "text/plain": [
              "  Age_Group smoker       charges\n",
              "0   18 - 29     no   4418.568274\n",
              "2   30 - 49     no   7821.924186\n",
              "4      50 +     no  12822.026582\n",
              "6   Over 60     no  14545.352319\n",
              "1   18 - 29    yes  27518.035262\n",
              "3   30 - 49    yes  31502.707094\n",
              "5      50 +    yes  37499.067760\n",
              "7   Over 60    yes  40239.423577"
            ]
          },
          "metadata": {},
          "execution_count": 22
        }
      ],
      "source": [
        "plot_df.head(10)"
      ],
      "id": "eOeRL87GpMX-"
    },
    {
      "cell_type": "code",
      "execution_count": 23,
      "metadata": {
        "execution": {
          "iopub.execute_input": "2022-01-04T10:00:04.508801Z",
          "iopub.status.busy": "2022-01-04T10:00:04.508040Z",
          "iopub.status.idle": "2022-01-04T10:00:04.572029Z",
          "shell.execute_reply": "2022-01-04T10:00:04.572471Z",
          "shell.execute_reply.started": "2022-01-04T09:57:48.664779Z"
        },
        "papermill": {
          "duration": 0.10443,
          "end_time": "2022-01-04T10:00:04.572597",
          "exception": false,
          "start_time": "2022-01-04T10:00:04.468167",
          "status": "completed"
        },
        "tags": [],
        "colab": {
          "base_uri": "https://localhost:8080/",
          "height": 467
        },
        "id": "UqvqiRebpMX-",
        "outputId": "7e8dba42-d6a1-4855-c3cb-de7a48028b31"
      },
      "outputs": [
        {
          "output_type": "execute_result",
          "data": {
            "image/png": "[encoded data removed]",
            "text/plain": [
              "<IPython.core.display.Image object>"
            ]
          },
          "metadata": {},
          "execution_count": 23
        }
      ],
      "source": [
        "fig = px.bar(plot_df, x='Age_Group', y='charges', color='smoker', height=500, text='charges', \n",
        "             barmode='group', color_discrete_sequence=['#B8A','#B77'],\n",
        "             title=\"Average Insurance Costs by Age and Smoking Status\",template= 'plotly_dark')\n",
        "fig.update_traces(texttemplate='$%{text:,.0f}', textposition='outside', \n",
        "                  marker_line=dict(width=1, color='#FFFFFF'))\n",
        "#fig.show()\n",
        "gitly.show(fig)"
      ],
      "id": "UqvqiRebpMX-"
    },
    {
      "cell_type": "markdown",
      "metadata": {
        "papermill": {
          "duration": 0.049347,
          "end_time": "2022-01-04T10:00:04.656691",
          "exception": false,
          "start_time": "2022-01-04T10:00:04.607344",
          "status": "completed"
        },
        "tags": [],
        "id": "-fEMl-j6pMX-"
      },
      "source": [
        "***From the above plot we can say that due to increasing age and If the person is a Smoker than health expenses Increase. There is a linear correlation in Average Health Expenses and a patients age group and whether they are a smoker.***"
      ],
      "id": "-fEMl-j6pMX-"
    },
    {
      "cell_type": "markdown",
      "metadata": {
        "papermill": {
          "duration": 0.053501,
          "end_time": "2022-01-04T10:00:04.780460",
          "exception": false,
          "start_time": "2022-01-04T10:00:04.726959",
          "status": "completed"
        },
        "tags": [],
        "id": "YtoDjafTpMX-"
      },
      "source": [
        "## BMI and Smoker "
      ],
      "id": "YtoDjafTpMX-"
    },
    {
      "cell_type": "code",
      "execution_count": 24,
      "metadata": {
        "execution": {
          "iopub.execute_input": "2022-01-04T10:00:04.911126Z",
          "iopub.status.busy": "2022-01-04T10:00:04.910221Z",
          "iopub.status.idle": "2022-01-04T10:00:04.924057Z",
          "shell.execute_reply": "2022-01-04T10:00:04.924835Z",
          "shell.execute_reply.started": "2022-01-04T09:57:48.763969Z"
        },
        "papermill": {
          "duration": 0.084534,
          "end_time": "2022-01-04T10:00:04.925048",
          "exception": false,
          "start_time": "2022-01-04T10:00:04.840514",
          "status": "completed"
        },
        "tags": [],
        "colab": {
          "base_uri": "https://localhost:8080/",
          "height": 206
        },
        "id": "bIVgJ-CopMX-",
        "outputId": "ec7d36f9-c60c-471c-f5a8-d6df1f3fa0ea"
      },
      "outputs": [
        {
          "output_type": "execute_result",
          "data": {
            "text/html": [
              "\n",
              "  <div id=\"df-46b2b097-3be7-4e87-a052-432632d8d64f\">\n",
              "    <div class=\"colab-df-container\">\n",
              "      <div>\n",
              "<style scoped>\n",
              "    .dataframe tbody tr th:only-of-type {\n",
              "        vertical-align: middle;\n",
              "    }\n",
              "\n",
              "    .dataframe tbody tr th {\n",
              "        vertical-align: top;\n",
              "    }\n",
              "\n",
              "    .dataframe thead th {\n",
              "        text-align: right;\n",
              "    }\n",
              "</style>\n",
              "<table border=\"1\" class=\"dataframe\">\n",
              "  <thead>\n",
              "    <tr style=\"text-align: right;\">\n",
              "      <th></th>\n",
              "      <th>age</th>\n",
              "      <th>sex</th>\n",
              "      <th>bmi</th>\n",
              "      <th>children</th>\n",
              "      <th>smoker</th>\n",
              "      <th>region</th>\n",
              "      <th>charges</th>\n",
              "      <th>Age_Group</th>\n",
              "    </tr>\n",
              "  </thead>\n",
              "  <tbody>\n",
              "    <tr>\n",
              "      <th>0</th>\n",
              "      <td>19</td>\n",
              "      <td>female</td>\n",
              "      <td>27.900</td>\n",
              "      <td>0</td>\n",
              "      <td>yes</td>\n",
              "      <td>southwest</td>\n",
              "      <td>16884.92400</td>\n",
              "      <td>18 - 29</td>\n",
              "    </tr>\n",
              "    <tr>\n",
              "      <th>1</th>\n",
              "      <td>18</td>\n",
              "      <td>male</td>\n",
              "      <td>33.770</td>\n",
              "      <td>1</td>\n",
              "      <td>no</td>\n",
              "      <td>southeast</td>\n",
              "      <td>1725.55230</td>\n",
              "      <td>18 - 29</td>\n",
              "    </tr>\n",
              "    <tr>\n",
              "      <th>2</th>\n",
              "      <td>28</td>\n",
              "      <td>male</td>\n",
              "      <td>33.000</td>\n",
              "      <td>3</td>\n",
              "      <td>no</td>\n",
              "      <td>southeast</td>\n",
              "      <td>4449.46200</td>\n",
              "      <td>18 - 29</td>\n",
              "    </tr>\n",
              "    <tr>\n",
              "      <th>3</th>\n",
              "      <td>33</td>\n",
              "      <td>male</td>\n",
              "      <td>22.705</td>\n",
              "      <td>0</td>\n",
              "      <td>no</td>\n",
              "      <td>northwest</td>\n",
              "      <td>21984.47061</td>\n",
              "      <td>30 - 49</td>\n",
              "    </tr>\n",
              "    <tr>\n",
              "      <th>4</th>\n",
              "      <td>32</td>\n",
              "      <td>male</td>\n",
              "      <td>28.880</td>\n",
              "      <td>0</td>\n",
              "      <td>no</td>\n",
              "      <td>northwest</td>\n",
              "      <td>3866.85520</td>\n",
              "      <td>30 - 49</td>\n",
              "    </tr>\n",
              "  </tbody>\n",
              "</table>\n",
              "</div>\n",
              "      <button class=\"colab-df-convert\" onclick=\"convertToInteractive('df-46b2b097-3be7-4e87-a052-432632d8d64f')\"\n",
              "              title=\"Convert this dataframe to an interactive table.\"\n",
              "              style=\"display:none;\">\n",
              "        \n",
              "  <svg xmlns=\"http://www.w3.org/2000/svg\" height=\"24px\"viewBox=\"0 0 24 24\"\n",
              "       width=\"24px\">\n",
              "    <path d=\"M0 0h24v24H0V0z\" fill=\"none\"/>\n",
              "    <path d=\"M18.56 5.44l.94 2.06.94-2.06 2.06-.94-2.06-.94-.94-2.06-.94 2.06-2.06.94zm-11 1L8.5 8.5l.94-2.06 2.06-.94-2.06-.94L8.5 2.5l-.94 2.06-2.06.94zm10 10l.94 2.06.94-2.06 2.06-.94-2.06-.94-.94-2.06-.94 2.06-2.06.94z\"/><path d=\"M17.41 7.96l-1.37-1.37c-.4-.4-.92-.59-1.43-.59-.52 0-1.04.2-1.43.59L10.3 9.45l-7.72 7.72c-.78.78-.78 2.05 0 2.83L4 21.41c.39.39.9.59 1.41.59.51 0 1.02-.2 1.41-.59l7.78-7.78 2.81-2.81c.8-.78.8-2.07 0-2.86zM5.41 20L4 18.59l7.72-7.72 1.47 1.35L5.41 20z\"/>\n",
              "  </svg>\n",
              "      </button>\n",
              "      \n",
              "  <style>\n",
              "    .colab-df-container {\n",
              "      display:flex;\n",
              "      flex-wrap:wrap;\n",
              "      gap: 12px;\n",
              "    }\n",
              "\n",
              "    .colab-df-convert {\n",
              "      background-color: #E8F0FE;\n",
              "      border: none;\n",
              "      border-radius: 50%;\n",
              "      cursor: pointer;\n",
              "      display: none;\n",
              "      fill: #1967D2;\n",
              "      height: 32px;\n",
              "      padding: 0 0 0 0;\n",
              "      width: 32px;\n",
              "    }\n",
              "\n",
              "    .colab-df-convert:hover {\n",
              "      background-color: #E2EBFA;\n",
              "      box-shadow: 0px 1px 2px rgba(60, 64, 67, 0.3), 0px 1px 3px 1px rgba(60, 64, 67, 0.15);\n",
              "      fill: #174EA6;\n",
              "    }\n",
              "\n",
              "    [theme=dark] .colab-df-convert {\n",
              "      background-color: #3B4455;\n",
              "      fill: #D2E3FC;\n",
              "    }\n",
              "\n",
              "    [theme=dark] .colab-df-convert:hover {\n",
              "      background-color: #434B5C;\n",
              "      box-shadow: 0px 1px 3px 1px rgba(0, 0, 0, 0.15);\n",
              "      filter: drop-shadow(0px 1px 2px rgba(0, 0, 0, 0.3));\n",
              "      fill: #FFFFFF;\n",
              "    }\n",
              "  </style>\n",
              "\n",
              "      <script>\n",
              "        const buttonEl =\n",
              "          document.querySelector('#df-46b2b097-3be7-4e87-a052-432632d8d64f button.colab-df-convert');\n",
              "        buttonEl.style.display =\n",
              "          google.colab.kernel.accessAllowed ? 'block' : 'none';\n",
              "\n",
              "        async function convertToInteractive(key) {\n",
              "          const element = document.querySelector('#df-46b2b097-3be7-4e87-a052-432632d8d64f');\n",
              "          const dataTable =\n",
              "            await google.colab.kernel.invokeFunction('convertToInteractive',\n",
              "                                                     [key], {});\n",
              "          if (!dataTable) return;\n",
              "\n",
              "          const docLinkHtml = 'Like what you see? Visit the ' +\n",
              "            '<a target=\"_blank\" href=https://colab.research.google.com/notebooks/data_table.ipynb>data table notebook</a>'\n",
              "            + ' to learn more about interactive tables.';\n",
              "          element.innerHTML = '';\n",
              "          dataTable['output_type'] = 'display_data';\n",
              "          await google.colab.output.renderOutput(dataTable, element);\n",
              "          const docLink = document.createElement('div');\n",
              "          docLink.innerHTML = docLinkHtml;\n",
              "          element.appendChild(docLink);\n",
              "        }\n",
              "      </script>\n",
              "    </div>\n",
              "  </div>\n",
              "  "
            ],
            "text/plain": [
              "   age     sex     bmi  children smoker     region      charges Age_Group\n",
              "0   19  female  27.900         0    yes  southwest  16884.92400   18 - 29\n",
              "1   18    male  33.770         1     no  southeast   1725.55230   18 - 29\n",
              "2   28    male  33.000         3     no  southeast   4449.46200   18 - 29\n",
              "3   33    male  22.705         0     no  northwest  21984.47061   30 - 49\n",
              "4   32    male  28.880         0     no  northwest   3866.85520   30 - 49"
            ]
          },
          "metadata": {},
          "execution_count": 24
        }
      ],
      "source": [
        "df.head()"
      ],
      "id": "bIVgJ-CopMX-"
    },
    {
      "cell_type": "code",
      "execution_count": 25,
      "metadata": {
        "execution": {
          "iopub.execute_input": "2022-01-04T10:00:05.042819Z",
          "iopub.status.busy": "2022-01-04T10:00:05.042075Z",
          "iopub.status.idle": "2022-01-04T10:00:05.044746Z",
          "shell.execute_reply": "2022-01-04T10:00:05.045858Z",
          "shell.execute_reply.started": "2022-01-04T09:57:48.790250Z"
        },
        "papermill": {
          "duration": 0.066252,
          "end_time": "2022-01-04T10:00:05.046051",
          "exception": false,
          "start_time": "2022-01-04T10:00:04.979799",
          "status": "completed"
        },
        "tags": [],
        "id": "TZWKTJD9pMX_"
      },
      "outputs": [],
      "source": [
        "df['BMI'] = ['15-24' if i < 25 else '25-34' if i >= 25 and i < 35 else '35-44' if i>=35 and i < 45 else '45-50' if i>=45 and i<50 else '50+' for i in df.bmi]"
      ],
      "id": "TZWKTJD9pMX_"
    },
    {
      "cell_type": "code",
      "execution_count": 26,
      "metadata": {
        "execution": {
          "iopub.execute_input": "2022-01-04T10:00:05.168850Z",
          "iopub.status.busy": "2022-01-04T10:00:05.167891Z",
          "iopub.status.idle": "2022-01-04T10:00:05.169534Z",
          "shell.execute_reply": "2022-01-04T10:00:05.168377Z",
          "shell.execute_reply.started": "2022-01-04T09:57:48.798779Z"
        },
        "papermill": {
          "duration": 0.067788,
          "end_time": "2022-01-04T10:00:05.169684",
          "exception": false,
          "start_time": "2022-01-04T10:00:05.101896",
          "status": "completed"
        },
        "tags": [],
        "id": "8f5IgxHipMX_"
      },
      "outputs": [],
      "source": [
        "bmidf = df.groupby(['BMI','smoker'])['charges'].mean()"
      ],
      "id": "8f5IgxHipMX_"
    },
    {
      "cell_type": "code",
      "execution_count": 27,
      "metadata": {
        "execution": {
          "iopub.execute_input": "2022-01-04T10:00:05.293729Z",
          "iopub.status.busy": "2022-01-04T10:00:05.292989Z",
          "iopub.status.idle": "2022-01-04T10:00:05.294981Z",
          "shell.execute_reply": "2022-01-04T10:00:05.294329Z",
          "shell.execute_reply.started": "2022-01-04T09:57:48.810356Z"
        },
        "papermill": {
          "duration": 0.068305,
          "end_time": "2022-01-04T10:00:05.295140",
          "exception": false,
          "start_time": "2022-01-04T10:00:05.226835",
          "status": "completed"
        },
        "tags": [],
        "id": "vxuKfAU6pMX_"
      },
      "outputs": [],
      "source": [
        "bmidf = bmidf.rename('Charges').reset_index().sort_values('smoker',ascending=True)"
      ],
      "id": "vxuKfAU6pMX_"
    },
    {
      "cell_type": "code",
      "execution_count": 28,
      "metadata": {
        "execution": {
          "iopub.execute_input": "2022-01-04T10:00:05.417863Z",
          "iopub.status.busy": "2022-01-04T10:00:05.416949Z",
          "iopub.status.idle": "2022-01-04T10:00:05.504428Z",
          "shell.execute_reply": "2022-01-04T10:00:05.505399Z",
          "shell.execute_reply.started": "2022-01-04T09:57:48.821916Z"
        },
        "papermill": {
          "duration": 0.153444,
          "end_time": "2022-01-04T10:00:05.505594",
          "exception": false,
          "start_time": "2022-01-04T10:00:05.352150",
          "status": "completed"
        },
        "tags": [],
        "colab": {
          "base_uri": "https://localhost:8080/",
          "height": 467
        },
        "id": "i1lrAa1tpMX_",
        "outputId": "1a78ee73-e7fe-4fd8-930c-091b6b59da3b"
      },
      "outputs": [
        {
          "output_type": "execute_result",
          "data": {
            "image/png": "[encoded data removed]",
            "text/plain": [
              "<IPython.core.display.Image object>"
            ]
          },
          "metadata": {},
          "execution_count": 28
        }
      ],
      "source": [
        "fig = px.bar(bmidf,x = 'BMI',y = 'Charges',color = 'smoker',barmode = 'group',text = 'Charges', color_discrete_sequence=['#B8A','#B77'],title = \"Average Insurance Costs by BMI and Smoking Status\",template= 'plotly_dark')\n",
        "fig.update_traces(texttemplate = '$%{text:,.0f}',textposition='outside',marker_line=dict(width=1, color='#FFFFFF'))\n",
        "gitly.show(fig)"
      ],
      "id": "i1lrAa1tpMX_"
    },
    {
      "cell_type": "markdown",
      "metadata": {
        "papermill": {
          "duration": 0.057931,
          "end_time": "2022-01-04T10:00:05.622308",
          "exception": false,
          "start_time": "2022-01-04T10:00:05.564377",
          "status": "completed"
        },
        "tags": [],
        "id": "P5zhffjopMX_"
      },
      "source": [
        "## Distribution based on Average Insurance Costs by Region and Smoking Status"
      ],
      "id": "P5zhffjopMX_"
    },
    {
      "cell_type": "code",
      "execution_count": 29,
      "metadata": {
        "execution": {
          "iopub.execute_input": "2022-01-04T10:00:05.744261Z",
          "iopub.status.busy": "2022-01-04T10:00:05.743419Z",
          "iopub.status.idle": "2022-01-04T10:00:05.747260Z",
          "shell.execute_reply": "2022-01-04T10:00:05.747815Z",
          "shell.execute_reply.started": "2022-01-04T09:57:48.899015Z"
        },
        "papermill": {
          "duration": 0.06734,
          "end_time": "2022-01-04T10:00:05.747996",
          "exception": false,
          "start_time": "2022-01-04T10:00:05.680656",
          "status": "completed"
        },
        "tags": [],
        "id": "YwhDYEXspMX_"
      },
      "outputs": [],
      "source": [
        "regiondf = df.groupby(['region','smoker'])['charges'].mean()"
      ],
      "id": "YwhDYEXspMX_"
    },
    {
      "cell_type": "code",
      "execution_count": 30,
      "metadata": {
        "execution": {
          "iopub.execute_input": "2022-01-04T10:00:05.835197Z",
          "iopub.status.busy": "2022-01-04T10:00:05.834470Z",
          "iopub.status.idle": "2022-01-04T10:00:05.836821Z",
          "shell.execute_reply": "2022-01-04T10:00:05.836420Z",
          "shell.execute_reply.started": "2022-01-04T09:57:48.909439Z"
        },
        "papermill": {
          "duration": 0.044482,
          "end_time": "2022-01-04T10:00:05.836924",
          "exception": false,
          "start_time": "2022-01-04T10:00:05.792442",
          "status": "completed"
        },
        "tags": [],
        "id": "4QNCwrM5pMYA"
      },
      "outputs": [],
      "source": [
        "regiondf = regiondf.rename('Charges').reset_index().sort_values('smoker',ascending = True)"
      ],
      "id": "4QNCwrM5pMYA"
    },
    {
      "cell_type": "code",
      "execution_count": 31,
      "metadata": {
        "execution": {
          "iopub.execute_input": "2022-01-04T10:00:05.968411Z",
          "iopub.status.busy": "2022-01-04T10:00:05.920680Z",
          "iopub.status.idle": "2022-01-04T10:00:05.973997Z",
          "shell.execute_reply": "2022-01-04T10:00:05.974474Z",
          "shell.execute_reply.started": "2022-01-04T09:57:48.919385Z"
        },
        "papermill": {
          "duration": 0.102229,
          "end_time": "2022-01-04T10:00:05.974594",
          "exception": false,
          "start_time": "2022-01-04T10:00:05.872365",
          "status": "completed"
        },
        "scrolled": false,
        "tags": [],
        "colab": {
          "base_uri": "https://localhost:8080/",
          "height": 467
        },
        "id": "hBVh_n6RpMYA",
        "outputId": "7ec2c49f-e188-4b5b-dd94-26a7bded31d2"
      },
      "outputs": [
        {
          "output_type": "execute_result",
          "data": {
            "image/png": "[encoded data removed]",
            "text/plain": [
              "<IPython.core.display.Image object>"
            ]
          },
          "metadata": {},
          "execution_count": 31
        }
      ],
      "source": [
        "fig = px.bar(regiondf,x = 'region',y = 'Charges',color = 'smoker',barmode = 'group',text = 'Charges',color_discrete_sequence=['#B8A','#B77'],title = 'Average Insurance Cost by Region and Smoker',template= 'plotly_dark')\n",
        "fig.update_traces(texttemplate = '$%{text:,.0f}',textposition='outside',marker_line=dict(width=1, color='#FFFFFF'))\n",
        "gitly.show(fig)"
      ],
      "id": "hBVh_n6RpMYA"
    },
    {
      "cell_type": "code",
      "execution_count": null,
      "metadata": {
        "scrolled": false,
        "id": "nM3y_zBWpMYA",
        "outputId": "63157b31-9078-48f9-8e2e-824d47f86537"
      },
      "outputs": [
        {
          "data": {
            "text/plain": [
              "Text(0.5, 1.0, 'Distribution of charges for non-smokers')"
            ]
          },
          "execution_count": 30,
          "metadata": {},
          "output_type": "execute_result"
        },
        {
          "data": {
            "image/png": "[encoded data removed]",
            "text/plain": [
              "<Figure size 864x360 with 2 Axes>"
            ]
          },
          "metadata": {
            "needs_background": "light"
          },
          "output_type": "display_data"
        }
      ],
      "source": [
        "f = plt.figure(figsize=(12,5))\n",
        "\n",
        "ax = f.add_subplot(121)\n",
        "sns.histplot(df[(df.smoker=='yes')]['charges'], color='c',ax=ax,kde=True, linewidth=0)\n",
        "ax.set_title('Distribution of charges for smokers')\n",
        "\n",
        "ax = f.add_subplot(122)\n",
        "sns.histplot(df[(df.smoker=='no')]['charges'],color='b',ax=ax,kde=True,linewidth=0)\n",
        "ax.set_title('Distribution of charges for non-smokers')"
      ],
      "id": "nM3y_zBWpMYA"
    },
    {
      "cell_type": "markdown",
      "metadata": {
        "id": "hF6DzBm2pMYA"
      },
      "source": [
        "### Charges Based on Sex"
      ],
      "id": "hF6DzBm2pMYA"
    },
    {
      "cell_type": "code",
      "execution_count": null,
      "metadata": {
        "scrolled": true,
        "id": "uszEpJ6UpMYA",
        "outputId": "20e8a437-e1c2-497c-ad47-9f740aeb7732"
      },
      "outputs": [
        {
          "data": {
            "text/plain": [
              "<matplotlib.axes._subplots.AxesSubplot at 0x23e7bb507f0>"
            ]
          },
          "execution_count": 31,
          "metadata": {},
          "output_type": "execute_result"
        },
        {
          "data": {
            "image/png": "[encoded data removed]",
            "text/plain": [
              "<Figure size 864x360 with 1 Axes>"
            ]
          },
          "metadata": {
            "needs_background": "light"
          },
          "output_type": "display_data"
        }
      ],
      "source": [
        "plt.figure(figsize=(12,5))\n",
        "plt.title(\"Box plot for charges of women\")\n",
        "sns.boxplot(y='smoker',x='charges',data=df[(df.sex == 'female')] , orient='h',palette='flare')"
      ],
      "id": "uszEpJ6UpMYA"
    },
    {
      "cell_type": "code",
      "execution_count": null,
      "metadata": {
        "scrolled": true,
        "id": "5vaB_wWzpMYA",
        "outputId": "9f72bc54-f0e1-4149-f72b-09eace6dcaf2"
      },
      "outputs": [
        {
          "data": {
            "text/plain": [
              "<matplotlib.axes._subplots.AxesSubplot at 0x23e7bb51c40>"
            ]
          },
          "execution_count": 32,
          "metadata": {},
          "output_type": "execute_result"
        },
        {
          "data": {
            "image/png": "[encoded data removed]",
            "text/plain": [
              "<Figure size 864x360 with 1 Axes>"
            ]
          },
          "metadata": {
            "needs_background": "light"
          },
          "output_type": "display_data"
        }
      ],
      "source": [
        "plt.figure(figsize=(12,5))\n",
        "plt.title(\"Box plot for charges of men\")\n",
        "sns.boxplot(y='smoker',x='charges',data=df[(df.sex == 'male')] , orient='h',palette='mako')"
      ],
      "id": "5vaB_wWzpMYA"
    },
    {
      "cell_type": "code",
      "execution_count": null,
      "metadata": {
        "id": "Umd_zgYYpMYA",
        "outputId": "74664964-d833-454b-f903-fd7ed65b464c"
      },
      "outputs": [
        {
          "data": {
            "text/plain": [
              "Text(0.5, 1.0, 'The number of smokers and non-smokers (18 years old)')"
            ]
          },
          "execution_count": 33,
          "metadata": {},
          "output_type": "execute_result"
        },
        {
          "data": {
            "image/png": "[encoded data removed]",
            "text/plain": [
              "<Figure size 430.5x360 with 1 Axes>"
            ]
          },
          "metadata": {
            "needs_background": "light"
          },
          "output_type": "display_data"
        }
      ],
      "source": [
        "sns.catplot(x='smoker', kind='count', hue='sex', palette='crest',data=df[(df.age == 18)])\n",
        "plt.title(\"The number of smokers and non-smokers (18 years old)\")"
      ],
      "id": "Umd_zgYYpMYA"
    },
    {
      "cell_type": "code",
      "execution_count": null,
      "metadata": {
        "id": "03k98v4HpMYB"
      },
      "outputs": [],
      "source": [
        "df2 = df"
      ],
      "id": "03k98v4HpMYB"
    },
    {
      "cell_type": "code",
      "execution_count": null,
      "metadata": {
        "id": "CkJVhZcGpMYB"
      },
      "outputs": [],
      "source": [
        "region_dummies = pd.get_dummies(df2['region'], drop_first=True)\n",
        "#region_dummies.head()"
      ],
      "id": "CkJVhZcGpMYB"
    },
    {
      "cell_type": "code",
      "execution_count": null,
      "metadata": {
        "id": "1Mmbw4hspMYB"
      },
      "outputs": [],
      "source": [
        "df2 = pd.concat([df2, region_dummies], axis=1)"
      ],
      "id": "1Mmbw4hspMYB"
    },
    {
      "cell_type": "code",
      "execution_count": null,
      "metadata": {
        "id": "GGeMAW7mpMYB"
      },
      "outputs": [],
      "source": [
        "df2.drop(['region'],axis=1, inplace=True)"
      ],
      "id": "GGeMAW7mpMYB"
    },
    {
      "cell_type": "code",
      "execution_count": null,
      "metadata": {
        "id": "nrruFEGPpMYB"
      },
      "outputs": [],
      "source": [
        "from sklearn.preprocessing import LabelEncoder\n",
        "#sex\n",
        "le = LabelEncoder()\n",
        "le.fit(df2.sex.drop_duplicates())\n",
        "df2.sex = le.transform(df2.sex)\n",
        "#smoker or not\n",
        "le.fit(df.smoker.drop_duplicates())\n",
        "df2.smoker = le.transform(df2.smoker)\n",
        "#region\n",
        "# le.fit(df.region.drop_duplicates())\n",
        "# df.region = le.tranaform(df.region)"
      ],
      "id": "nrruFEGPpMYB"
    },
    {
      "cell_type": "code",
      "execution_count": null,
      "metadata": {
        "id": "tKJIg1p_pMYB",
        "outputId": "c198117f-0ac3-416c-b372-e64f68ec6067"
      },
      "outputs": [
        {
          "data": {
            "text/html": [
              "<div>\n",
              "<style scoped>\n",
              "    .dataframe tbody tr th:only-of-type {\n",
              "        vertical-align: middle;\n",
              "    }\n",
              "\n",
              "    .dataframe tbody tr th {\n",
              "        vertical-align: top;\n",
              "    }\n",
              "\n",
              "    .dataframe thead th {\n",
              "        text-align: right;\n",
              "    }\n",
              "</style>\n",
              "<table border=\"1\" class=\"dataframe\">\n",
              "  <thead>\n",
              "    <tr style=\"text-align: right;\">\n",
              "      <th></th>\n",
              "      <th>age</th>\n",
              "      <th>sex</th>\n",
              "      <th>bmi</th>\n",
              "      <th>children</th>\n",
              "      <th>smoker</th>\n",
              "      <th>charges</th>\n",
              "      <th>Age_Group</th>\n",
              "      <th>BMI</th>\n",
              "      <th>northwest</th>\n",
              "      <th>southeast</th>\n",
              "      <th>southwest</th>\n",
              "    </tr>\n",
              "  </thead>\n",
              "  <tbody>\n",
              "    <tr>\n",
              "      <th>0</th>\n",
              "      <td>19</td>\n",
              "      <td>0</td>\n",
              "      <td>27.900</td>\n",
              "      <td>0</td>\n",
              "      <td>1</td>\n",
              "      <td>16884.92400</td>\n",
              "      <td>18 - 29</td>\n",
              "      <td>25-34</td>\n",
              "      <td>0</td>\n",
              "      <td>0</td>\n",
              "      <td>1</td>\n",
              "    </tr>\n",
              "    <tr>\n",
              "      <th>1</th>\n",
              "      <td>18</td>\n",
              "      <td>1</td>\n",
              "      <td>33.770</td>\n",
              "      <td>1</td>\n",
              "      <td>0</td>\n",
              "      <td>1725.55230</td>\n",
              "      <td>18 - 29</td>\n",
              "      <td>25-34</td>\n",
              "      <td>0</td>\n",
              "      <td>1</td>\n",
              "      <td>0</td>\n",
              "    </tr>\n",
              "    <tr>\n",
              "      <th>2</th>\n",
              "      <td>28</td>\n",
              "      <td>1</td>\n",
              "      <td>33.000</td>\n",
              "      <td>3</td>\n",
              "      <td>0</td>\n",
              "      <td>4449.46200</td>\n",
              "      <td>18 - 29</td>\n",
              "      <td>25-34</td>\n",
              "      <td>0</td>\n",
              "      <td>1</td>\n",
              "      <td>0</td>\n",
              "    </tr>\n",
              "    <tr>\n",
              "      <th>3</th>\n",
              "      <td>33</td>\n",
              "      <td>1</td>\n",
              "      <td>22.705</td>\n",
              "      <td>0</td>\n",
              "      <td>0</td>\n",
              "      <td>21984.47061</td>\n",
              "      <td>30 - 49</td>\n",
              "      <td>15-24</td>\n",
              "      <td>1</td>\n",
              "      <td>0</td>\n",
              "      <td>0</td>\n",
              "    </tr>\n",
              "    <tr>\n",
              "      <th>4</th>\n",
              "      <td>32</td>\n",
              "      <td>1</td>\n",
              "      <td>28.880</td>\n",
              "      <td>0</td>\n",
              "      <td>0</td>\n",
              "      <td>3866.85520</td>\n",
              "      <td>30 - 49</td>\n",
              "      <td>25-34</td>\n",
              "      <td>1</td>\n",
              "      <td>0</td>\n",
              "      <td>0</td>\n",
              "    </tr>\n",
              "  </tbody>\n",
              "</table>\n",
              "</div>"
            ],
            "text/plain": [
              "   age  sex     bmi  children  smoker      charges Age_Group    BMI  \\\n",
              "0   19    0  27.900         0       1  16884.92400   18 - 29  25-34   \n",
              "1   18    1  33.770         1       0   1725.55230   18 - 29  25-34   \n",
              "2   28    1  33.000         3       0   4449.46200   18 - 29  25-34   \n",
              "3   33    1  22.705         0       0  21984.47061   30 - 49  15-24   \n",
              "4   32    1  28.880         0       0   3866.85520   30 - 49  25-34   \n",
              "\n",
              "   northwest  southeast  southwest  \n",
              "0          0          0          1  \n",
              "1          0          1          0  \n",
              "2          0          1          0  \n",
              "3          1          0          0  \n",
              "4          1          0          0  "
            ]
          },
          "execution_count": 39,
          "metadata": {},
          "output_type": "execute_result"
        }
      ],
      "source": [
        "df2.head()"
      ],
      "id": "tKJIg1p_pMYB"
    },
    {
      "cell_type": "code",
      "execution_count": null,
      "metadata": {
        "id": "cxw0UQIUpMYB",
        "outputId": "de3947c5-09d9-481f-e282-fdb9c1b2b65c"
      },
      "outputs": [
        {
          "data": {
            "image/png": "[encoded data removed]",
            "text/plain": [
              "<Figure size 864x576 with 2 Axes>"
            ]
          },
          "metadata": {
            "needs_background": "light"
          },
          "output_type": "display_data"
        }
      ],
      "source": [
        "plt.figure(figsize=(12,8))\n",
        "sns.heatmap(df2.corr(),annot=True)\n",
        "plt.show()"
      ],
      "id": "cxw0UQIUpMYB"
    },
    {
      "cell_type": "code",
      "execution_count": null,
      "metadata": {
        "execution": {
          "iopub.execute_input": "2022-01-04T10:00:09.021699Z",
          "iopub.status.busy": "2022-01-04T10:00:09.021129Z",
          "iopub.status.idle": "2022-01-04T10:00:09.023582Z",
          "shell.execute_reply": "2022-01-04T10:00:09.023985Z",
          "shell.execute_reply.started": "2022-01-04T09:57:52.397632Z"
        },
        "papermill": {
          "duration": 0.055165,
          "end_time": "2022-01-04T10:00:09.024144",
          "exception": false,
          "start_time": "2022-01-04T10:00:08.968979",
          "status": "completed"
        },
        "tags": [],
        "id": "xROZyv4rpMYB"
      },
      "outputs": [],
      "source": [
        "df.drop(['Age_Group','BMI'],axis = 1,inplace=True)"
      ],
      "id": "xROZyv4rpMYB"
    },
    {
      "cell_type": "markdown",
      "metadata": {
        "papermill": {
          "duration": 0.044162,
          "end_time": "2022-01-04T10:00:09.115621",
          "exception": false,
          "start_time": "2022-01-04T10:00:09.071459",
          "status": "completed"
        },
        "tags": [],
        "id": "I5kjqMy6pMYB"
      },
      "source": [
        "## Feature Engineering"
      ],
      "id": "I5kjqMy6pMYB"
    },
    {
      "cell_type": "code",
      "execution_count": null,
      "metadata": {
        "execution": {
          "iopub.execute_input": "2022-01-04T10:00:09.228584Z",
          "iopub.status.busy": "2022-01-04T10:00:09.217208Z",
          "iopub.status.idle": "2022-01-04T10:00:09.976214Z",
          "shell.execute_reply": "2022-01-04T10:00:09.977728Z",
          "shell.execute_reply.started": "2022-01-04T09:57:52.405901Z"
        },
        "papermill": {
          "duration": 0.817679,
          "end_time": "2022-01-04T10:00:09.978016",
          "exception": false,
          "start_time": "2022-01-04T10:00:09.160337",
          "status": "completed"
        },
        "tags": [],
        "id": "B1QxdamPpMYC",
        "outputId": "4a3dad91-2bd0-42e3-ad2f-35f328ce479b"
      },
      "outputs": [
        {
          "name": "stderr",
          "output_type": "stream",
          "text": [
            "P:\\Anaconda\\lib\\site-packages\\seaborn\\_decorators.py:36: FutureWarning:\n",
            "\n",
            "Pass the following variable as a keyword arg: x. From version 0.12, the only valid positional argument will be `data`, and passing other arguments without an explicit keyword will result in an error or misinterpretation.\n",
            "\n"
          ]
        },
        {
          "data": {
            "image/png": "[encoded data removed]",
            "text/plain": [
              "<Figure size 432x288 with 1 Axes>"
            ]
          },
          "metadata": {
            "needs_background": "light"
          },
          "output_type": "display_data"
        },
        {
          "name": "stderr",
          "output_type": "stream",
          "text": [
            "P:\\Anaconda\\lib\\site-packages\\seaborn\\_decorators.py:36: FutureWarning:\n",
            "\n",
            "Pass the following variable as a keyword arg: x. From version 0.12, the only valid positional argument will be `data`, and passing other arguments without an explicit keyword will result in an error or misinterpretation.\n",
            "\n"
          ]
        },
        {
          "data": {
            "image/png": "[encoded data removed]",
            "text/plain": [
              "<Figure size 432x288 with 1 Axes>"
            ]
          },
          "metadata": {
            "needs_background": "light"
          },
          "output_type": "display_data"
        },
        {
          "name": "stderr",
          "output_type": "stream",
          "text": [
            "P:\\Anaconda\\lib\\site-packages\\seaborn\\_decorators.py:36: FutureWarning:\n",
            "\n",
            "Pass the following variable as a keyword arg: x. From version 0.12, the only valid positional argument will be `data`, and passing other arguments without an explicit keyword will result in an error or misinterpretation.\n",
            "\n"
          ]
        },
        {
          "data": {
            "image/png": "[encoded data removed]",
            "text/plain": [
              "<Figure size 432x288 with 1 Axes>"
            ]
          },
          "metadata": {
            "needs_background": "light"
          },
          "output_type": "display_data"
        },
        {
          "name": "stderr",
          "output_type": "stream",
          "text": [
            "P:\\Anaconda\\lib\\site-packages\\seaborn\\_decorators.py:36: FutureWarning:\n",
            "\n",
            "Pass the following variable as a keyword arg: x. From version 0.12, the only valid positional argument will be `data`, and passing other arguments without an explicit keyword will result in an error or misinterpretation.\n",
            "\n"
          ]
        },
        {
          "data": {
            "image/png": "[encoded data removed]",
            "text/plain": [
              "<Figure size 432x288 with 1 Axes>"
            ]
          },
          "metadata": {
            "needs_background": "light"
          },
          "output_type": "display_data"
        }
      ],
      "source": [
        "for i in df.columns:\n",
        "    if df[i].dtypes !='O':\n",
        "        sns.boxplot(df[i])\n",
        "        plt.show()"
      ],
      "id": "B1QxdamPpMYC"
    },
    {
      "cell_type": "markdown",
      "metadata": {
        "papermill": {
          "duration": 0.042578,
          "end_time": "2022-01-04T10:00:10.064780",
          "exception": false,
          "start_time": "2022-01-04T10:00:10.022202",
          "status": "completed"
        },
        "tags": [],
        "id": "2H5NHuf_pMYC"
      },
      "source": [
        "## Capping and Flooring for Outlier Treatment"
      ],
      "id": "2H5NHuf_pMYC"
    },
    {
      "cell_type": "code",
      "execution_count": null,
      "metadata": {
        "execution": {
          "iopub.execute_input": "2022-01-04T10:00:10.158401Z",
          "iopub.status.busy": "2022-01-04T10:00:10.156472Z",
          "iopub.status.idle": "2022-01-04T10:00:10.168548Z",
          "shell.execute_reply": "2022-01-04T10:00:10.168123Z",
          "shell.execute_reply.started": "2022-01-04T09:57:52.985341Z"
        },
        "papermill": {
          "duration": 0.061025,
          "end_time": "2022-01-04T10:00:10.168658",
          "exception": false,
          "start_time": "2022-01-04T10:00:10.107633",
          "status": "completed"
        },
        "tags": [],
        "id": "3jt5sxeMpMYC"
      },
      "outputs": [],
      "source": [
        "for i in df.columns:\n",
        "    if df[i].dtype !='O':\n",
        "        df[i] = np.clip(df[i],df[i].quantile(0.1),df[i].quantile(0.95))"
      ],
      "id": "3jt5sxeMpMYC"
    },
    {
      "cell_type": "code",
      "execution_count": null,
      "metadata": {
        "execution": {
          "iopub.execute_input": "2022-01-04T10:00:10.258023Z",
          "iopub.status.busy": "2022-01-04T10:00:10.257233Z",
          "iopub.status.idle": "2022-01-04T10:00:10.275474Z",
          "shell.execute_reply": "2022-01-04T10:00:10.275001Z",
          "shell.execute_reply.started": "2022-01-04T09:57:53.007481Z"
        },
        "papermill": {
          "duration": 0.064392,
          "end_time": "2022-01-04T10:00:10.275577",
          "exception": false,
          "start_time": "2022-01-04T10:00:10.211185",
          "status": "completed"
        },
        "tags": [],
        "id": "xWONtAY9pMYC",
        "outputId": "c09b0940-4453-4c8b-800e-4838b8378ba0"
      },
      "outputs": [
        {
          "data": {
            "text/html": [
              "<div>\n",
              "<style scoped>\n",
              "    .dataframe tbody tr th:only-of-type {\n",
              "        vertical-align: middle;\n",
              "    }\n",
              "\n",
              "    .dataframe tbody tr th {\n",
              "        vertical-align: top;\n",
              "    }\n",
              "\n",
              "    .dataframe thead th {\n",
              "        text-align: right;\n",
              "    }\n",
              "</style>\n",
              "<table border=\"1\" class=\"dataframe\">\n",
              "  <thead>\n",
              "    <tr style=\"text-align: right;\">\n",
              "      <th></th>\n",
              "      <th>age</th>\n",
              "      <th>bmi</th>\n",
              "      <th>children</th>\n",
              "      <th>charges</th>\n",
              "    </tr>\n",
              "  </thead>\n",
              "  <tbody>\n",
              "    <tr>\n",
              "      <th>count</th>\n",
              "      <td>1338.000000</td>\n",
              "      <td>1338.000000</td>\n",
              "      <td>1338.000000</td>\n",
              "      <td>1338.000000</td>\n",
              "    </tr>\n",
              "    <tr>\n",
              "      <th>mean</th>\n",
              "      <td>39.208520</td>\n",
              "      <td>30.742767</td>\n",
              "      <td>1.049327</td>\n",
              "      <td>13054.910465</td>\n",
              "    </tr>\n",
              "    <tr>\n",
              "      <th>std</th>\n",
              "      <td>13.888724</td>\n",
              "      <td>5.384601</td>\n",
              "      <td>1.097609</td>\n",
              "      <td>11300.867890</td>\n",
              "    </tr>\n",
              "    <tr>\n",
              "      <th>min</th>\n",
              "      <td>19.000000</td>\n",
              "      <td>22.990000</td>\n",
              "      <td>0.000000</td>\n",
              "      <td>2346.533615</td>\n",
              "    </tr>\n",
              "    <tr>\n",
              "      <th>10%</th>\n",
              "      <td>19.000000</td>\n",
              "      <td>22.990000</td>\n",
              "      <td>0.000000</td>\n",
              "      <td>2351.038000</td>\n",
              "    </tr>\n",
              "    <tr>\n",
              "      <th>20%</th>\n",
              "      <td>24.000000</td>\n",
              "      <td>25.326000</td>\n",
              "      <td>0.000000</td>\n",
              "      <td>3991.575720</td>\n",
              "    </tr>\n",
              "    <tr>\n",
              "      <th>30%</th>\n",
              "      <td>29.000000</td>\n",
              "      <td>27.360000</td>\n",
              "      <td>0.000000</td>\n",
              "      <td>5484.846770</td>\n",
              "    </tr>\n",
              "    <tr>\n",
              "      <th>40%</th>\n",
              "      <td>34.000000</td>\n",
              "      <td>28.797000</td>\n",
              "      <td>0.000000</td>\n",
              "      <td>7369.052730</td>\n",
              "    </tr>\n",
              "    <tr>\n",
              "      <th>50%</th>\n",
              "      <td>39.000000</td>\n",
              "      <td>30.400000</td>\n",
              "      <td>1.000000</td>\n",
              "      <td>9382.033000</td>\n",
              "    </tr>\n",
              "    <tr>\n",
              "      <th>60%</th>\n",
              "      <td>44.000000</td>\n",
              "      <td>32.032000</td>\n",
              "      <td>1.000000</td>\n",
              "      <td>11399.857160</td>\n",
              "    </tr>\n",
              "    <tr>\n",
              "      <th>70%</th>\n",
              "      <td>49.000000</td>\n",
              "      <td>33.660000</td>\n",
              "      <td>2.000000</td>\n",
              "      <td>13767.875345</td>\n",
              "    </tr>\n",
              "    <tr>\n",
              "      <th>80%</th>\n",
              "      <td>54.000000</td>\n",
              "      <td>35.860000</td>\n",
              "      <td>2.000000</td>\n",
              "      <td>20260.626406</td>\n",
              "    </tr>\n",
              "    <tr>\n",
              "      <th>95%</th>\n",
              "      <td>62.000000</td>\n",
              "      <td>41.100900</td>\n",
              "      <td>3.000000</td>\n",
              "      <td>41109.861656</td>\n",
              "    </tr>\n",
              "    <tr>\n",
              "      <th>max</th>\n",
              "      <td>62.000000</td>\n",
              "      <td>41.106000</td>\n",
              "      <td>3.000000</td>\n",
              "      <td>41181.827787</td>\n",
              "    </tr>\n",
              "  </tbody>\n",
              "</table>\n",
              "</div>"
            ],
            "text/plain": [
              "               age          bmi     children       charges\n",
              "count  1338.000000  1338.000000  1338.000000   1338.000000\n",
              "mean     39.208520    30.742767     1.049327  13054.910465\n",
              "std      13.888724     5.384601     1.097609  11300.867890\n",
              "min      19.000000    22.990000     0.000000   2346.533615\n",
              "10%      19.000000    22.990000     0.000000   2351.038000\n",
              "20%      24.000000    25.326000     0.000000   3991.575720\n",
              "30%      29.000000    27.360000     0.000000   5484.846770\n",
              "40%      34.000000    28.797000     0.000000   7369.052730\n",
              "50%      39.000000    30.400000     1.000000   9382.033000\n",
              "60%      44.000000    32.032000     1.000000  11399.857160\n",
              "70%      49.000000    33.660000     2.000000  13767.875345\n",
              "80%      54.000000    35.860000     2.000000  20260.626406\n",
              "95%      62.000000    41.100900     3.000000  41109.861656\n",
              "max      62.000000    41.106000     3.000000  41181.827787"
            ]
          },
          "execution_count": 44,
          "metadata": {},
          "output_type": "execute_result"
        }
      ],
      "source": [
        "df.describe(percentiles=[0.1,0.2,0.3,0.4,0.5,0.6,0.7,0.8,0.95])"
      ],
      "id": "xWONtAY9pMYC"
    },
    {
      "cell_type": "markdown",
      "metadata": {
        "papermill": {
          "duration": 0.042666,
          "end_time": "2022-01-04T10:00:10.361539",
          "exception": false,
          "start_time": "2022-01-04T10:00:10.318873",
          "status": "completed"
        },
        "tags": [],
        "id": "kg912TNapMYC"
      },
      "source": [
        "## One-Hot Encoding"
      ],
      "id": "kg912TNapMYC"
    },
    {
      "cell_type": "code",
      "execution_count": null,
      "metadata": {
        "execution": {
          "iopub.execute_input": "2022-01-04T10:00:10.454972Z",
          "iopub.status.busy": "2022-01-04T10:00:10.454168Z",
          "iopub.status.idle": "2022-01-04T10:00:10.463333Z",
          "shell.execute_reply": "2022-01-04T10:00:10.462880Z",
          "shell.execute_reply.started": "2022-01-04T09:57:53.037450Z"
        },
        "papermill": {
          "duration": 0.058632,
          "end_time": "2022-01-04T10:00:10.463451",
          "exception": false,
          "start_time": "2022-01-04T10:00:10.404819",
          "status": "completed"
        },
        "tags": [],
        "id": "vdHLdNVkpMYC"
      },
      "outputs": [],
      "source": [
        "finaldf = pd.get_dummies(df,drop_first=True)\n",
        "finaldf2 = pd.get_dummies(df,drop_first=False) #for heatmap representation"
      ],
      "id": "vdHLdNVkpMYC"
    },
    {
      "cell_type": "code",
      "execution_count": null,
      "metadata": {
        "id": "J79hDFCQpMYC",
        "outputId": "87c2d8c3-242b-40de-9088-109ee6f586cf"
      },
      "outputs": [
        {
          "data": {
            "text/html": [
              "<div>\n",
              "<style scoped>\n",
              "    .dataframe tbody tr th:only-of-type {\n",
              "        vertical-align: middle;\n",
              "    }\n",
              "\n",
              "    .dataframe tbody tr th {\n",
              "        vertical-align: top;\n",
              "    }\n",
              "\n",
              "    .dataframe thead th {\n",
              "        text-align: right;\n",
              "    }\n",
              "</style>\n",
              "<table border=\"1\" class=\"dataframe\">\n",
              "  <thead>\n",
              "    <tr style=\"text-align: right;\">\n",
              "      <th></th>\n",
              "      <th>age</th>\n",
              "      <th>bmi</th>\n",
              "      <th>children</th>\n",
              "      <th>charges</th>\n",
              "      <th>sex_male</th>\n",
              "      <th>smoker_yes</th>\n",
              "      <th>region_northwest</th>\n",
              "      <th>region_southeast</th>\n",
              "      <th>region_southwest</th>\n",
              "    </tr>\n",
              "  </thead>\n",
              "  <tbody>\n",
              "    <tr>\n",
              "      <th>0</th>\n",
              "      <td>19</td>\n",
              "      <td>27.90</td>\n",
              "      <td>0</td>\n",
              "      <td>16884.924000</td>\n",
              "      <td>0</td>\n",
              "      <td>1</td>\n",
              "      <td>0</td>\n",
              "      <td>0</td>\n",
              "      <td>1</td>\n",
              "    </tr>\n",
              "    <tr>\n",
              "      <th>1</th>\n",
              "      <td>19</td>\n",
              "      <td>33.77</td>\n",
              "      <td>1</td>\n",
              "      <td>2346.533615</td>\n",
              "      <td>1</td>\n",
              "      <td>0</td>\n",
              "      <td>0</td>\n",
              "      <td>1</td>\n",
              "      <td>0</td>\n",
              "    </tr>\n",
              "    <tr>\n",
              "      <th>2</th>\n",
              "      <td>28</td>\n",
              "      <td>33.00</td>\n",
              "      <td>3</td>\n",
              "      <td>4449.462000</td>\n",
              "      <td>1</td>\n",
              "      <td>0</td>\n",
              "      <td>0</td>\n",
              "      <td>1</td>\n",
              "      <td>0</td>\n",
              "    </tr>\n",
              "    <tr>\n",
              "      <th>3</th>\n",
              "      <td>33</td>\n",
              "      <td>22.99</td>\n",
              "      <td>0</td>\n",
              "      <td>21984.470610</td>\n",
              "      <td>1</td>\n",
              "      <td>0</td>\n",
              "      <td>1</td>\n",
              "      <td>0</td>\n",
              "      <td>0</td>\n",
              "    </tr>\n",
              "    <tr>\n",
              "      <th>4</th>\n",
              "      <td>32</td>\n",
              "      <td>28.88</td>\n",
              "      <td>0</td>\n",
              "      <td>3866.855200</td>\n",
              "      <td>1</td>\n",
              "      <td>0</td>\n",
              "      <td>1</td>\n",
              "      <td>0</td>\n",
              "      <td>0</td>\n",
              "    </tr>\n",
              "  </tbody>\n",
              "</table>\n",
              "</div>"
            ],
            "text/plain": [
              "   age    bmi  children       charges  sex_male  smoker_yes  region_northwest  \\\n",
              "0   19  27.90         0  16884.924000         0           1                 0   \n",
              "1   19  33.77         1   2346.533615         1           0                 0   \n",
              "2   28  33.00         3   4449.462000         1           0                 0   \n",
              "3   33  22.99         0  21984.470610         1           0                 1   \n",
              "4   32  28.88         0   3866.855200         1           0                 1   \n",
              "\n",
              "   region_southeast  region_southwest  \n",
              "0                 0                 1  \n",
              "1                 1                 0  \n",
              "2                 1                 0  \n",
              "3                 0                 0  \n",
              "4                 0                 0  "
            ]
          },
          "execution_count": 46,
          "metadata": {},
          "output_type": "execute_result"
        }
      ],
      "source": [
        "finaldf.head()"
      ],
      "id": "J79hDFCQpMYC"
    },
    {
      "cell_type": "code",
      "execution_count": null,
      "metadata": {
        "execution": {
          "iopub.execute_input": "2022-01-04T10:00:10.554507Z",
          "iopub.status.busy": "2022-01-04T10:00:10.553933Z",
          "iopub.status.idle": "2022-01-04T10:00:10.556322Z",
          "shell.execute_reply": "2022-01-04T10:00:10.556690Z",
          "shell.execute_reply.started": "2022-01-04T09:57:53.056681Z"
        },
        "papermill": {
          "duration": 0.05015,
          "end_time": "2022-01-04T10:00:10.556811",
          "exception": false,
          "start_time": "2022-01-04T10:00:10.506661",
          "status": "completed"
        },
        "tags": [],
        "id": "BlcmiuCApMYC"
      },
      "outputs": [],
      "source": [
        "# Predictors\n",
        "x = finaldf.drop('charges',axis=1)\n",
        "# Target Variable\n",
        "y = finaldf.charges"
      ],
      "id": "BlcmiuCApMYC"
    },
    {
      "cell_type": "markdown",
      "metadata": {
        "papermill": {
          "duration": 0.043313,
          "end_time": "2022-01-04T10:00:10.643239",
          "exception": false,
          "start_time": "2022-01-04T10:00:10.599926",
          "status": "completed"
        },
        "tags": [],
        "id": "5SVKjp7dpMYD"
      },
      "source": [
        "## Correlation Heatmap"
      ],
      "id": "5SVKjp7dpMYD"
    },
    {
      "cell_type": "code",
      "execution_count": null,
      "metadata": {
        "execution": {
          "iopub.execute_input": "2022-01-04T10:00:10.734998Z",
          "iopub.status.busy": "2022-01-04T10:00:10.734255Z",
          "iopub.status.idle": "2022-01-04T10:00:11.600907Z",
          "shell.execute_reply": "2022-01-04T10:00:11.601342Z",
          "shell.execute_reply.started": "2022-01-04T09:57:53.064617Z"
        },
        "papermill": {
          "duration": 0.915206,
          "end_time": "2022-01-04T10:00:11.601499",
          "exception": false,
          "start_time": "2022-01-04T10:00:10.686293",
          "status": "completed"
        },
        "tags": [],
        "id": "VQStBSVQpMYD",
        "outputId": "8da23a67-cbc2-4e45-b764-a89fcbad0d72"
      },
      "outputs": [
        {
          "data": {
            "image/png": "[encoded data removed]",
            "text/plain": [
              "<Figure size 1080x720 with 2 Axes>"
            ]
          },
          "metadata": {
            "needs_background": "light"
          },
          "output_type": "display_data"
        }
      ],
      "source": [
        "plt.figure(figsize= (15,10))\n",
        "sns.heatmap(finaldf2.corr(),cmap='coolwarm',annot = True)\n",
        "plt.show()"
      ],
      "id": "VQStBSVQpMYD"
    },
    {
      "cell_type": "markdown",
      "metadata": {
        "papermill": {
          "duration": 0.045757,
          "end_time": "2022-01-04T10:00:11.694042",
          "exception": false,
          "start_time": "2022-01-04T10:00:11.648285",
          "status": "completed"
        },
        "tags": [],
        "id": "wsdLZ4pNpMYD"
      },
      "source": [
        "***Some of the important Features: 1) AGE 2) BMI 3) Smoker_yes 4) Region_southeast (These were positively Correlated Features)*** \n",
        "\n",
        "***Smoking Status was the most important feature for predicting Charges***"
      ],
      "id": "wsdLZ4pNpMYD"
    },
    {
      "cell_type": "markdown",
      "metadata": {
        "papermill": {
          "duration": 0.045408,
          "end_time": "2022-01-04T10:00:11.785519",
          "exception": false,
          "start_time": "2022-01-04T10:00:11.740111",
          "status": "completed"
        },
        "tags": [],
        "id": "JJdexSBBpMYD"
      },
      "source": [
        "## Selecting best model"
      ],
      "id": "JJdexSBBpMYD"
    },
    {
      "cell_type": "code",
      "execution_count": null,
      "metadata": {
        "execution": {
          "iopub.execute_input": "2022-01-04T10:00:11.884278Z",
          "iopub.status.busy": "2022-01-04T10:00:11.883416Z",
          "iopub.status.idle": "2022-01-04T10:00:11.885317Z",
          "shell.execute_reply": "2022-01-04T10:00:11.885736Z",
          "shell.execute_reply.started": "2022-01-04T09:57:53.904802Z"
        },
        "papermill": {
          "duration": 0.054037,
          "end_time": "2022-01-04T10:00:11.885861",
          "exception": false,
          "start_time": "2022-01-04T10:00:11.831824",
          "status": "completed"
        },
        "tags": [],
        "id": "xZ21Tcb0pMYD"
      },
      "outputs": [],
      "source": [
        "#define every model with multiple parameters for the selection of best model with best parameters.\n",
        "model_params = {\n",
        "    'XGB':{\n",
        "        'model':XGBRegressor(n_jobs = -1,tree_method = 'gpu_hist'),\n",
        "        'params':{\n",
        "            'n_estimators':[50,100,200,300,400],   \n",
        "            \n",
        "        }\n",
        "    },\n",
        "    'RF':{\n",
        "        'model':RandomForestRegressor(n_jobs = -1),\n",
        "        'params':{\n",
        "            'n_estimators':[50,100],\n",
        "            'criterion' : ['mse',\"mae\"]\n",
        "            \n",
        "        }\n",
        "    },\n",
        "    'DT':{\n",
        "        'model':DecisionTreeRegressor(),\n",
        "        'params':{\n",
        "            'criterion' : [\"friedman_mse\",'mse','mae'],\n",
        "            'splitter':[\"best\", \"random\"]\n",
        "        }\n",
        "    }\n",
        "}"
      ],
      "id": "xZ21Tcb0pMYD"
    },
    {
      "cell_type": "code",
      "execution_count": null,
      "metadata": {
        "execution": {
          "iopub.execute_input": "2022-01-04T10:00:12.087773Z",
          "iopub.status.busy": "2022-01-04T10:00:12.084671Z",
          "iopub.status.idle": "2022-01-04T10:00:49.569234Z",
          "shell.execute_reply": "2022-01-04T10:00:49.569667Z",
          "shell.execute_reply.started": "2022-01-04T09:57:53.913898Z"
        },
        "papermill": {
          "duration": 37.597812,
          "end_time": "2022-01-04T10:00:49.569810",
          "exception": false,
          "start_time": "2022-01-04T10:00:11.971998",
          "status": "completed"
        },
        "tags": [],
        "id": "PqBNug42pMYD"
      },
      "outputs": [],
      "source": [
        "scores = [] #List for all the best scores\n",
        "for model_name, modelp in model_params.items():\n",
        "    clf = GridSearchCV(modelp['model'],modelp['params'],cv = 5,return_train_score=False)\n",
        "    clf.fit(x,y)\n",
        "    scores.append({\n",
        "        'model': model_name,\n",
        "        'best_score': clf.best_score_,\n",
        "        'best_params': clf.best_params_\n",
        "    })\n",
        "scoreddf = pd.DataFrame(scores,columns=['model','best_score','best_params'])\n",
        "scoreddf"
      ],
      "id": "PqBNug42pMYD"
    },
    {
      "cell_type": "markdown",
      "metadata": {
        "papermill": {
          "duration": 0.046111,
          "end_time": "2022-01-04T10:00:49.661947",
          "exception": false,
          "start_time": "2022-01-04T10:00:49.615836",
          "status": "completed"
        },
        "tags": [],
        "id": "gPNoAcASpMYD"
      },
      "source": [
        "***Best Model --> Random Forest || Best Parameters --> 'criterion': 'absolute_error', 'n_estimators': 100***"
      ],
      "id": "gPNoAcASpMYD"
    },
    {
      "cell_type": "markdown",
      "metadata": {
        "papermill": {
          "duration": 0.045562,
          "end_time": "2022-01-04T10:00:49.753734",
          "exception": false,
          "start_time": "2022-01-04T10:00:49.708172",
          "status": "completed"
        },
        "tags": [],
        "id": "mLQ6Q5pvpMYD"
      },
      "source": [
        "## Train - Test Split"
      ],
      "id": "mLQ6Q5pvpMYD"
    },
    {
      "cell_type": "code",
      "execution_count": null,
      "metadata": {
        "execution": {
          "iopub.execute_input": "2022-01-04T10:00:49.853801Z",
          "iopub.status.busy": "2022-01-04T10:00:49.853278Z",
          "iopub.status.idle": "2022-01-04T10:00:49.857615Z",
          "shell.execute_reply": "2022-01-04T10:00:49.857047Z",
          "shell.execute_reply.started": "2022-01-04T09:58:28.084059Z"
        },
        "papermill": {
          "duration": 0.05788,
          "end_time": "2022-01-04T10:00:49.857748",
          "exception": false,
          "start_time": "2022-01-04T10:00:49.799868",
          "status": "completed"
        },
        "tags": [],
        "id": "FiSzFGBApMYD"
      },
      "outputs": [],
      "source": [
        "xtrain,xtest,ytrain,ytest = train_test_split(x,y,test_size=0.2,random_state=444)"
      ],
      "id": "FiSzFGBApMYD"
    },
    {
      "cell_type": "markdown",
      "metadata": {
        "papermill": {
          "duration": 0.045825,
          "end_time": "2022-01-04T10:00:49.949952",
          "exception": false,
          "start_time": "2022-01-04T10:00:49.904127",
          "status": "completed"
        },
        "tags": [],
        "id": "BreehPRepMYE"
      },
      "source": [
        "## Model Building"
      ],
      "id": "BreehPRepMYE"
    },
    {
      "cell_type": "code",
      "execution_count": null,
      "metadata": {
        "execution": {
          "iopub.execute_input": "2022-01-04T10:00:50.047429Z",
          "iopub.status.busy": "2022-01-04T10:00:50.045846Z",
          "iopub.status.idle": "2022-01-04T10:00:50.048043Z",
          "shell.execute_reply": "2022-01-04T10:00:50.048467Z",
          "shell.execute_reply.started": "2022-01-04T09:59:09.248118Z"
        },
        "papermill": {
          "duration": 0.052557,
          "end_time": "2022-01-04T10:00:50.048597",
          "exception": false,
          "start_time": "2022-01-04T10:00:49.996040",
          "status": "completed"
        },
        "tags": [],
        "id": "C-yEbRKApMYE"
      },
      "outputs": [],
      "source": [
        "rf = RandomForestRegressor(n_jobs = -1,n_estimators = 50,criterion = \"mae\")"
      ],
      "id": "C-yEbRKApMYE"
    },
    {
      "cell_type": "code",
      "execution_count": null,
      "metadata": {
        "execution": {
          "iopub.execute_input": "2022-01-04T10:00:50.146538Z",
          "iopub.status.busy": "2022-01-04T10:00:50.145699Z",
          "iopub.status.idle": "2022-01-04T10:00:50.976516Z",
          "shell.execute_reply": "2022-01-04T10:00:50.975903Z",
          "shell.execute_reply.started": "2022-01-04T09:59:10.001213Z"
        },
        "papermill": {
          "duration": 0.882143,
          "end_time": "2022-01-04T10:00:50.976657",
          "exception": false,
          "start_time": "2022-01-04T10:00:50.094514",
          "status": "completed"
        },
        "tags": [],
        "id": "ejTbcUe6pMYE"
      },
      "outputs": [],
      "source": [
        "rf.fit(xtrain,ytrain)\n",
        "ypred = rf.predict(xtest)"
      ],
      "id": "ejTbcUe6pMYE"
    },
    {
      "cell_type": "code",
      "execution_count": null,
      "metadata": {
        "execution": {
          "iopub.execute_input": "2022-01-04T10:00:51.086650Z",
          "iopub.status.busy": "2022-01-04T10:00:51.085867Z",
          "iopub.status.idle": "2022-01-04T10:00:51.089139Z",
          "shell.execute_reply": "2022-01-04T10:00:51.089657Z",
          "shell.execute_reply.started": "2022-01-04T09:59:11.931555Z"
        },
        "papermill": {
          "duration": 0.061372,
          "end_time": "2022-01-04T10:00:51.089810",
          "exception": false,
          "start_time": "2022-01-04T10:00:51.028438",
          "status": "completed"
        },
        "tags": [],
        "id": "SBLKNNC-pMYE"
      },
      "outputs": [],
      "source": [
        "print(f'Accuracy of Model : {round(r2_score(ytest,ypred),2)*100}%')"
      ],
      "id": "SBLKNNC-pMYE"
    }
  ],
  "metadata": {
    "kernelspec": {
      "display_name": "Python 3",
      "language": "python",
      "name": "python3"
    },
    "language_info": {
      "codemirror_mode": {
        "name": "ipython",
        "version": 3
      },
      "file_extension": ".py",
      "mimetype": "text/x-python",
      "name": "python",
      "nbconvert_exporter": "python",
      "pygments_lexer": "ipython3",
      "version": "3.8.3"
    },
    "papermill": {
      "default_parameters": {},
      "duration": 62.22011,
      "end_time": "2022-01-04T10:00:52.646103",
      "environment_variables": {},
      "exception": null,
      "input_path": "__notebook__.ipynb",
      "output_path": "__notebook__.ipynb",
      "parameters": {},
      "start_time": "2022-01-04T09:59:50.425993",
      "version": "2.3.3"
    },
    "colab": {
      "name": "Medical Cost Analysis.ipynb",
      "provenance": [],
      "collapsed_sections": [
        "vStyJqtCpMX8",
        "I5kjqMy6pMYB",
        "2H5NHuf_pMYC",
        "kg912TNapMYC",
        "5SVKjp7dpMYD",
        "JJdexSBBpMYD",
        "mLQ6Q5pvpMYD",
        "BreehPRepMYE"
      ],
      "include_colab_link": true
    }
  },
  "nbformat": 4,
  "nbformat_minor": 5
}